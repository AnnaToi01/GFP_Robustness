{
 "cells": [
  {
   "cell_type": "code",
   "execution_count": 20,
   "id": "b7aef2d5",
   "metadata": {},
   "outputs": [],
   "source": [
    "import numpy as np\n",
    "import pandas as pd\n",
    "import matplotlib.pyplot as plt\n",
    "import seaborn as sns\n",
    "from sklearn.linear_model import LinearRegression"
   ]
  },
  {
   "cell_type": "code",
   "execution_count": 2,
   "id": "0290465e",
   "metadata": {},
   "outputs": [],
   "source": [
    "plate = pd.read_excel(\"220620_cgre_bradford.xlsx\", skiprows=35, index_col=\"Unnamed: 1\").iloc[:, 1:-1]"
   ]
  },
  {
   "cell_type": "code",
   "execution_count": 3,
   "id": "12fb00f3",
   "metadata": {},
   "outputs": [
    {
     "data": {
      "text/plain": [
       "1.485"
      ]
     },
     "execution_count": 3,
     "metadata": {},
     "output_type": "execute_result"
    }
   ],
   "source": [
    "plate.loc[\"A\", 1]"
   ]
  },
  {
   "cell_type": "code",
   "execution_count": 4,
   "id": "14957bcf",
   "metadata": {},
   "outputs": [],
   "source": [
    "gene_conv_well = {\n",
    "    '626_3': [[\"A\", 1], [\"A\", 2]],\n",
    "    '626_4': [[\"B\", 1], [\"B\", 2]],\n",
    "    '900_2': [[\"A\", 3], [\"A\", 4]],\n",
    "    '900_3': [[\"B\", 3], [\"B\", 4]],\n",
    "    '1414_3': [[\"A\", 5], [\"A\", 6]],\n",
    "    '1414_5': [[\"B\", 5], [\"B\", 6]],\n",
    "    '1338_1': [[\"A\", 7], [\"A\", 8]],\n",
    "    '1338_2': [[\"B\", 7], [\"B\", 8]],\n",
    "    '4111_1': [[\"A\", 9], [\"A\", 10]],\n",
    "    '4111_2': [[\"B\", 9], [\"B\", 10]],\n",
    "    '9708_1': [[\"A\", 11], [\"A\", 12]],\n",
    "    '9708_2': [[\"B\", 12], [\"B\", 12]],\n",
    "    '132_1': [[\"C\", 1], [\"C\", 2]],\n",
    "    '132_2': [[\"D\", 1], [\"D\", 2]],\n",
    "    '911_3': [[\"C\", 3], [\"C\", 4]],\n",
    "    '911_4': [[\"D\", 3], [\"D\", 4]],\n",
    "    '2880_2': [[\"C\", 5], [\"C\", 6]],\n",
    "    '2880_3': [[\"D\", 5], [\"D\", 6]],\n",
    "    '3224_1': [[\"C\", 7], [\"C\", 8]],\n",
    "    '3224_2': [[\"D\", 7], [\"D\", 8]],\n",
    "    '121_2': [[\"C\", 9], [\"C\", 10]],\n",
    "    '121_3': [[\"D\", 9], [\"D\", 10]],\n",
    "    '13_2': [[\"C\", 11], [\"C\", 12]],\n",
    "    '13_3': [[\"D\", 12], [\"D\", 12]],\n",
    "    '83_2': [[\"E\", 1], [\"E\", 2]],\n",
    "    '83_3': [[\"F\", 1], [\"F\", 2]],\n",
    "    '567_2': [[\"E\", 3], [\"E\", 4]],\n",
    "    '567_3': [[\"F\", 3], [\"F\", 4]],\n",
    "    '985_1': [[\"E\", 5], [\"F\", 5]],\n",
    "    '985_3': [[\"E\", 6], [\"F\", 6]],\n",
    "    '575_2': [[\"E\", 7], [\"F\", 8]],\n",
    "    '575_3': [[\"F\", 7], [\"E\", 8]],\n",
    "    'WT_1': [[\"E\", 9], [\"E\", 10]],\n",
    "    'WT_2': [[\"F\", 9], [\"F\", 10]],\n",
    "    'Blank': [[\"E\", 11], [\"E\", 12], [\"F\", 12], [\"F\", 12]],\n",
    "}"
   ]
  },
  {
   "cell_type": "code",
   "execution_count": 5,
   "id": "eebb5cdf",
   "metadata": {},
   "outputs": [],
   "source": [
    "calibration_conc = np.array([2000, 1500, 1000, 750, 500, 250, 125, 25, 0]) \n",
    "calibration_ext_values = plate.to_numpy()[-2:, :-3].mean(axis=0) "
   ]
  },
  {
   "cell_type": "code",
   "execution_count": 6,
   "id": "381f94d6",
   "metadata": {},
   "outputs": [
    {
     "data": {
      "text/plain": [
       "array([2.635 , 2.0435, 1.4975, 1.193 , 0.8455, 0.504 , 0.3235, 0.1525,\n",
       "       0.121 ])"
      ]
     },
     "execution_count": 6,
     "metadata": {},
     "output_type": "execute_result"
    }
   ],
   "source": [
    "plate.to_numpy()[-2:, :-3].mean(axis=0) "
   ]
  },
  {
   "cell_type": "code",
   "execution_count": 23,
   "id": "cdbcfa46",
   "metadata": {},
   "outputs": [
    {
     "data": {
      "text/plain": [
       "<matplotlib.collections.PathCollection at 0x7f3619293e80>"
      ]
     },
     "execution_count": 23,
     "metadata": {},
     "output_type": "execute_result"
    },
    {
     "data": {
      "image/png": "[encoded data removed]",
      "text/plain": [
       "<Figure size 432x288 with 1 Axes>"
      ]
     },
     "metadata": {
      "needs_background": "light"
     },
     "output_type": "display_data"
    }
   ],
   "source": [
    "plt.scatter(calibration_conc, calibration_ext_values.reshape((-1, 1)))"
   ]
  },
  {
   "cell_type": "code",
   "execution_count": 34,
   "id": "cb35f052",
   "metadata": {},
   "outputs": [],
   "source": [
    "model = LinearRegression().fit(calibration_ext_values.reshape((-1, 1)), calibration_conc)"
   ]
  },
  {
   "cell_type": "code",
   "execution_count": 37,
   "id": "76f24efa",
   "metadata": {},
   "outputs": [
    {
     "name": "stdout",
     "output_type": "stream",
     "text": [
      "coefficient of determination: 0.996638635145406\n"
     ]
    }
   ],
   "source": [
    "r_sq = model.score(calibration_ext_values.reshape((-1, 1)), calibration_conc)\n",
    "print(f\"coefficient of determination: {r_sq}\")"
   ]
  },
  {
   "cell_type": "code",
   "execution_count": 38,
   "id": "c0961cc6",
   "metadata": {},
   "outputs": [],
   "source": [
    "pred_conc = model.predict(plate.to_numpy()[:-2].flatten().reshape((-1, 1))).reshape((plate.shape[0]-2, plate.shape[1])) * 40 / 1000"
   ]
  },
  {
   "cell_type": "code",
   "execution_count": 39,
   "id": "964f736b",
   "metadata": {},
   "outputs": [],
   "source": [
    "df_pred_conc = pd.DataFrame(pred_conc, columns = list(range(1, 13)), index = plate.index[:-2])"
   ]
  },
  {
   "cell_type": "code",
   "execution_count": 40,
   "id": "4473b8c2",
   "metadata": {},
   "outputs": [
    {
     "name": "stdout",
     "output_type": "stream",
     "text": [
      "626_3\n",
      "['A', 1]\n",
      "['A', 2]\n",
      "626_4\n",
      "['B', 1]\n",
      "['B', 2]\n",
      "900_2\n",
      "['A', 3]\n",
      "['A', 4]\n",
      "900_3\n",
      "['B', 3]\n",
      "['B', 4]\n",
      "1414_3\n",
      "['A', 5]\n",
      "['A', 6]\n",
      "1414_5\n",
      "['B', 5]\n",
      "['B', 6]\n",
      "1338_1\n",
      "['A', 7]\n",
      "['A', 8]\n",
      "1338_2\n",
      "['B', 7]\n",
      "['B', 8]\n",
      "4111_1\n",
      "['A', 9]\n",
      "['A', 10]\n",
      "4111_2\n",
      "['B', 9]\n",
      "['B', 10]\n",
      "9708_1\n",
      "['A', 11]\n",
      "['A', 12]\n",
      "9708_2\n",
      "['B', 12]\n",
      "['B', 12]\n",
      "132_1\n",
      "['C', 1]\n",
      "['C', 2]\n",
      "132_2\n",
      "['D', 1]\n",
      "['D', 2]\n",
      "911_3\n",
      "['C', 3]\n",
      "['C', 4]\n",
      "911_4\n",
      "['D', 3]\n",
      "['D', 4]\n",
      "2880_2\n",
      "['C', 5]\n",
      "['C', 6]\n",
      "2880_3\n",
      "['D', 5]\n",
      "['D', 6]\n",
      "3224_1\n",
      "['C', 7]\n",
      "['C', 8]\n",
      "3224_2\n",
      "['D', 7]\n",
      "['D', 8]\n",
      "121_2\n",
      "['C', 9]\n",
      "['C', 10]\n",
      "121_3\n",
      "['D', 9]\n",
      "['D', 10]\n",
      "13_2\n",
      "['C', 11]\n",
      "['C', 12]\n",
      "13_3\n",
      "['D', 12]\n",
      "['D', 12]\n",
      "83_2\n",
      "['E', 1]\n",
      "['E', 2]\n",
      "83_3\n",
      "['F', 1]\n",
      "['F', 2]\n",
      "567_2\n",
      "['E', 3]\n",
      "['E', 4]\n",
      "567_3\n",
      "['F', 3]\n",
      "['F', 4]\n",
      "985_1\n",
      "['E', 5]\n",
      "['F', 5]\n",
      "985_3\n",
      "['E', 6]\n",
      "['F', 6]\n",
      "575_2\n",
      "['E', 7]\n",
      "['F', 8]\n",
      "575_3\n",
      "['F', 7]\n",
      "['E', 8]\n",
      "WT_1\n",
      "['E', 9]\n",
      "['E', 10]\n",
      "WT_2\n",
      "['F', 9]\n",
      "['F', 10]\n",
      "Blank\n",
      "['E', 11]\n",
      "['E', 12]\n",
      "['F', 12]\n",
      "['F', 12]\n"
     ]
    }
   ],
   "source": [
    "gene_conc = {}\n",
    "for gene, wells in gene_conv_well.items():\n",
    "    \n",
    "    concentrations = []\n",
    "    print(gene)\n",
    "    for well in wells:\n",
    "        print(well)\n",
    "        concentrations.append(df_pred_conc.loc[well[0], well[1]])\n",
    "                              \n",
    "    gene_conc[gene] = round(sum(concentrations) / len(concentrations), 2)"
   ]
  },
  {
   "cell_type": "code",
   "execution_count": 41,
   "id": "2c820e30",
   "metadata": {},
   "outputs": [
    {
     "data": {
      "text/plain": [
       "{'626_3': 41.07,\n",
       " '626_4': 18.47,\n",
       " '900_2': 45.65,\n",
       " '900_3': 35.62,\n",
       " '1414_3': 18.93,\n",
       " '1414_5': 8.02,\n",
       " '1338_1': 4.39,\n",
       " '1338_2': 2.85,\n",
       " '4111_1': 4.9,\n",
       " '4111_2': 2.41,\n",
       " '9708_1': 2.01,\n",
       " '9708_2': 19.66,\n",
       " '132_1': 2.11,\n",
       " '132_2': 10.55,\n",
       " '911_3': 30.22,\n",
       " '911_4': 20.85,\n",
       " '2880_2': 10.77,\n",
       " '2880_3': 17.41,\n",
       " '3224_1': 8.9,\n",
       " '3224_2': 8.9,\n",
       " '121_2': 35.43,\n",
       " '121_3': 26.79,\n",
       " '13_2': 36.73,\n",
       " '13_3': 8.76,\n",
       " '83_2': 34.94,\n",
       " '83_3': 25.13,\n",
       " '567_2': 20.65,\n",
       " '567_3': 19.39,\n",
       " '985_1': 2.26,\n",
       " '985_3': 1.71,\n",
       " '575_2': 2.9,\n",
       " '575_3': 2.77,\n",
       " 'WT_1': 6.64,\n",
       " 'WT_2': 12.77,\n",
       " 'Blank': -0.9}"
      ]
     },
     "execution_count": 41,
     "metadata": {},
     "output_type": "execute_result"
    }
   ],
   "source": [
    "gene_conc"
   ]
  }
 ],
 "metadata": {
  "kernelspec": {
   "display_name": "Python 3 (ipykernel)",
   "language": "python",
   "name": "python3"
  },
  "language_info": {
   "codemirror_mode": {
    "name": "ipython",
    "version": 3
   },
   "file_extension": ".py",
   "mimetype": "text/x-python",
   "name": "python",
   "nbconvert_exporter": "python",
   "pygments_lexer": "ipython3",
   "version": "3.9.12"
  }
 },
 "nbformat": 4,
 "nbformat_minor": 5
}
