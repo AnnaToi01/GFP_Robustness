{
 "cells": [
  {
   "cell_type": "code",
   "execution_count": 1,
   "id": "b7aef2d5",
   "metadata": {},
   "outputs": [],
   "source": [
    "import numpy as np\n",
    "import pandas as pd\n",
    "from scipy.stats import linregress\n",
    "from sklearn.linear_model import LinearRegression"
   ]
  },
  {
   "cell_type": "code",
   "execution_count": 2,
   "id": "0290465e",
   "metadata": {},
   "outputs": [],
   "source": [
    "plate = pd.read_excel(\n",
    "    \"220620_cgre_bradford.xlsx\", skiprows=35, index_col=\"Unnamed: 1\", engine=\"openpyxl\"\n",
    ").iloc[:, 1:-1]"
   ]
  },
  {
   "cell_type": "code",
   "execution_count": 3,
   "id": "12fb00f3",
   "metadata": {},
   "outputs": [
    {
     "data": {
      "text/plain": [
       "1.485"
      ]
     },
     "execution_count": 3,
     "metadata": {},
     "output_type": "execute_result"
    }
   ],
   "source": [
    "plate.loc[\"A\", 1]"
   ]
  },
  {
   "cell_type": "code",
   "execution_count": 4,
   "id": "14957bcf",
   "metadata": {},
   "outputs": [],
   "source": [
    "gene_conv_well = {\n",
    "    \"626_3\": [[\"A\", 1], [\"A\", 2]],\n",
    "    \"626_4\": [[\"B\", 1], [\"B\", 2]],\n",
    "    \"900_2\": [[\"A\", 3], [\"A\", 4]],\n",
    "    \"900_3\": [[\"B\", 3], [\"B\", 4]],\n",
    "    \"1414_3\": [[\"A\", 5], [\"A\", 6]],\n",
    "    \"1414_5\": [[\"B\", 5], [\"B\", 6]],\n",
    "    \"1338_1\": [[\"A\", 7], [\"A\", 8]],\n",
    "    \"1338_2\": [[\"B\", 7], [\"B\", 8]],\n",
    "    \"4111_1\": [[\"A\", 9], [\"A\", 10]],\n",
    "    \"4111_2\": [[\"B\", 9], [\"B\", 10]],\n",
    "    \"9708_1\": [[\"A\", 11], [\"A\", 12]],\n",
    "    \"9708_2\": [[\"B\", 12], [\"B\", 12]],\n",
    "    \"132_1\": [[\"C\", 1], [\"C\", 2]],\n",
    "    \"132_2\": [[\"D\", 1], [\"D\", 2]],\n",
    "    \"911_3\": [[\"C\", 3], [\"C\", 4]],\n",
    "    \"911_4\": [[\"D\", 3], [\"D\", 4]],\n",
    "    \"2880_2\": [[\"C\", 5], [\"C\", 6]],\n",
    "    \"2880_3\": [[\"D\", 5], [\"D\", 6]],\n",
    "    \"3224_1\": [[\"C\", 7], [\"C\", 8]],\n",
    "    \"3224_2\": [[\"D\", 7], [\"D\", 8]],\n",
    "    \"121_2\": [[\"C\", 9], [\"C\", 10]],\n",
    "    \"121_3\": [[\"D\", 9], [\"D\", 10]],\n",
    "    \"13_2\": [[\"C\", 11], [\"C\", 12]],\n",
    "    \"13_3\": [[\"D\", 12], [\"D\", 12]],\n",
    "    \"83_2\": [[\"E\", 1], [\"E\", 2]],\n",
    "    \"83_3\": [[\"F\", 1], [\"F\", 2]],\n",
    "    \"567_2\": [[\"E\", 3], [\"E\", 4]],\n",
    "    \"567_3\": [[\"F\", 3], [\"F\", 4]],\n",
    "    \"985_1\": [[\"E\", 5], [\"F\", 5]],\n",
    "    \"985_3\": [[\"E\", 6], [\"F\", 6]],\n",
    "    \"575_2\": [[\"E\", 7], [\"F\", 8]],\n",
    "    \"575_3\": [[\"F\", 7], [\"E\", 8]],\n",
    "    \"WT_1\": [[\"E\", 9], [\"E\", 10]],\n",
    "    \"WT_2\": [[\"F\", 9], [\"F\", 10]],\n",
    "    \"Blank\": [[\"E\", 11], [\"E\", 12], [\"F\", 12], [\"F\", 12]],\n",
    "}"
   ]
  },
  {
   "cell_type": "code",
   "execution_count": 5,
   "id": "eebb5cdf",
   "metadata": {},
   "outputs": [],
   "source": [
    "calibration_conc = np.array([2000, 1500, 1000, 750, 500, 250, 125, 25, 0])\n",
    "calibration_ext_values = plate.to_numpy()[-2:, :-3].mean(axis=0)"
   ]
  },
  {
   "cell_type": "code",
   "execution_count": 6,
   "id": "381f94d6",
   "metadata": {},
   "outputs": [
    {
     "data": {
      "text/plain": [
       "array([2.635 , 2.0435, 1.4975, 1.193 , 0.8455, 0.504 , 0.3235, 0.1525,\n",
       "       0.121 ])"
      ]
     },
     "execution_count": 6,
     "metadata": {},
     "output_type": "execute_result"
    }
   ],
   "source": [
    "plate.to_numpy()[-2:, :-3].mean(axis=0) "
   ]
  },
  {
   "cell_type": "code",
   "execution_count": 7,
   "id": "cb35f052",
   "metadata": {},
   "outputs": [],
   "source": [
    "model = LinearRegression().fit(\n",
    "    calibration_conc.reshape((-1, 1)), calibration_ext_values.reshape((-1, 1))\n",
    ")"
   ]
  },
  {
   "cell_type": "code",
   "execution_count": 8,
   "id": "76f24efa",
   "metadata": {},
   "outputs": [
    {
     "name": "stdout",
     "output_type": "stream",
     "text": [
      "coefficient of determination: 0.996638635145406\n"
     ]
    }
   ],
   "source": [
    "r_sq = model.score(calibration_conc.reshape((-1, 1)), calibration_ext_values)\n",
    "print(f\"coefficient of determination: {r_sq}\")"
   ]
  },
  {
   "cell_type": "code",
   "execution_count": 9,
   "id": "c0961cc6",
   "metadata": {},
   "outputs": [],
   "source": [
    "pred_conc = (\n",
    "    model.predict(plate.to_numpy()[:-2].flatten().reshape((-1, 1))).reshape(\n",
    "        (plate.shape[0] - 2, plate.shape[1])\n",
    "    )\n",
    "    * 40\n",
    "    / 1000\n",
    ")"
   ]
  },
  {
   "cell_type": "code",
   "execution_count": 10,
   "id": "964f736b",
   "metadata": {},
   "outputs": [],
   "source": [
    "df_pred_conc = pd.DataFrame(\n",
    "    pred_conc, columns=list(range(1, 13)), index=plate.index[:-2]\n",
    ")"
   ]
  },
  {
   "cell_type": "code",
   "execution_count": 11,
   "id": "4473b8c2",
   "metadata": {},
   "outputs": [],
   "source": [
    "gene_conc = {}\n",
    "for gene, wells in gene_conv_well.items():\n",
    "    \n",
    "    concentrations = []\n",
    "    for well in wells:\n",
    "        concentrations.append(df_pred_conc.loc[well[0], well[1]])\n",
    "                              \n",
    "    gene_conc[gene] = round(sum(concentrations) / len(concentrations), 2)"
   ]
  },
  {
   "cell_type": "code",
   "execution_count": 12,
   "id": "2c820e30",
   "metadata": {},
   "outputs": [
    {
     "data": {
      "text/plain": [
       "{'626_3': 0.01,\n",
       " '626_4': 0.01,\n",
       " '900_2': 0.01,\n",
       " '900_3': 0.01,\n",
       " '1414_3': 0.01,\n",
       " '1414_5': 0.01,\n",
       " '1338_1': 0.01,\n",
       " '1338_2': 0.01,\n",
       " '4111_1': 0.01,\n",
       " '4111_2': 0.01,\n",
       " '9708_1': 0.01,\n",
       " '9708_2': 0.01,\n",
       " '132_1': 0.01,\n",
       " '132_2': 0.01,\n",
       " '911_3': 0.01,\n",
       " '911_4': 0.01,\n",
       " '2880_2': 0.01,\n",
       " '2880_3': 0.01,\n",
       " '3224_1': 0.01,\n",
       " '3224_2': 0.01,\n",
       " '121_2': 0.01,\n",
       " '121_3': 0.01,\n",
       " '13_2': 0.01,\n",
       " '13_3': 0.01,\n",
       " '83_2': 0.01,\n",
       " '83_3': 0.01,\n",
       " '567_2': 0.01,\n",
       " '567_3': 0.01,\n",
       " '985_1': 0.01,\n",
       " '985_3': 0.01,\n",
       " '575_2': 0.01,\n",
       " '575_3': 0.01,\n",
       " 'WT_1': 0.01,\n",
       " 'WT_2': 0.01,\n",
       " 'Blank': 0.01}"
      ]
     },
     "execution_count": 12,
     "metadata": {},
     "output_type": "execute_result"
    }
   ],
   "source": [
    "gene_conc"
   ]
  },
  {
   "cell_type": "code",
   "execution_count": 13,
   "id": "e328a92e",
   "metadata": {},
   "outputs": [],
   "source": [
    "slope, intercept, r_value, p_value, std_err = linregress(\n",
    "    calibration_conc, calibration_ext_values\n",
    ")"
   ]
  },
  {
   "cell_type": "code",
   "execution_count": 14,
   "id": "8a06e7b8",
   "metadata": {},
   "outputs": [
    {
     "data": {
      "text/plain": [
       "LinregressResult(slope=0.001257990056066857, intercept=0.17542901724320337, rvalue=0.9983179028472873, pvalue=6.416605860351341e-10, stderr=2.761322656300748e-05, intercept_stderr=0.0262628254424432)"
      ]
     },
     "execution_count": 14,
     "metadata": {},
     "output_type": "execute_result"
    }
   ],
   "source": [
    "linregress(calibration_conc,calibration_ext_values)"
   ]
  },
  {
   "cell_type": "code",
   "execution_count": null,
   "id": "86da917e",
   "metadata": {},
   "outputs": [],
   "source": []
  }
 ],
 "metadata": {
  "kernelspec": {
   "display_name": "Python 3 (ipykernel)",
   "language": "python",
   "name": "python3"
  },
  "language_info": {
   "codemirror_mode": {
    "name": "ipython",
    "version": 3
   },
   "file_extension": ".py",
   "mimetype": "text/x-python",
   "name": "python",
   "nbconvert_exporter": "python",
   "pygments_lexer": "ipython3",
   "version": "3.9.7"
  }
 },
 "nbformat": 4,
 "nbformat_minor": 5
}
