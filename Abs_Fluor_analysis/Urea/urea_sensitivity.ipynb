{
 "cells": [
  {
   "cell_type": "markdown",
   "id": "775c048b",
   "metadata": {},
   "source": [
    "# Analysis of urea sensitivity of isolated cgre proteins"
   ]
  },
  {
   "cell_type": "markdown",
   "id": "530bbe22",
   "metadata": {},
   "source": [
    "Importing necessary libraries:"
   ]
  },
  {
   "cell_type": "code",
   "execution_count": null,
   "id": "76bb3921",
   "metadata": {},
   "outputs": [],
   "source": [
    "from pathlib import Path\n",
    "from typing import Dict, List, Tuple\n",
    "\n",
    "import matplotlib.pyplot as plt\n",
    "import numpy as np\n",
    "import pandas as pd\n",
    "import seaborn as sns\n",
    "from loguru import logger\n",
    "from scipy.optimize import curve_fit, OptimizeWarning\n",
    "\n",
    "# Curve fitting metrics\n",
    "from scipy.stats import kendalltau, linregress\n",
    "from sklearn.metrics import mean_squared_error\n",
    "\n",
    "from tqdm import tqdm\n",
    "\n",
    "from utils import *\n",
    "\n",
    "%matplotlib inline"
   ]
  },
  {
   "cell_type": "markdown",
   "id": "3c484e95",
   "metadata": {},
   "source": [
    "Disable `RunTimeWarning` and `scipy.optimize.OptimizeWarning`:"
   ]
  },
  {
   "cell_type": "code",
   "execution_count": null,
   "id": "b434161a",
   "metadata": {},
   "outputs": [],
   "source": [
    "import warnings\n",
    "warnings.filterwarnings(\"ignore\", category=RuntimeWarning)\n",
    "warnings.filterwarnings(\"ignore\", category=OptimizeWarning)"
   ]
  },
  {
   "cell_type": "markdown",
   "id": "ab6adff2",
   "metadata": {},
   "source": [
    "Conversion of genes to wells:"
   ]
  },
  {
   "cell_type": "code",
   "execution_count": null,
   "id": "ef4337a3",
   "metadata": {},
   "outputs": [],
   "source": [
    "blanks_urea = [f\"{col}1\" for col in \"ABCDEFGH\"]\n",
    "blanks_pbs = [f\"{col}12\" for col in \"ABCDEFGH\"]\n",
    "wells_urea = [f\"{col}{i}\" for col in \"ABCDEFGH\" for i in range(2, 7)]\n",
    "wells_pbs = [f\"{col}{i}\" for col in \"ABCDEFGH\" for i in range(7, 12)]\n",
    "\n",
    "gene2wells_urea = {\n",
    "    # Plate 0\n",
    "    \"9708\": [f\"{s}3\" for s in \"ABCDEFGH\"],\n",
    "    \"4111\": [f\"{s}4\" for s in \"ABCDEFGH\"],\n",
    "    \"132\": [f\"{s}2\" for s in \"ABCDEFGH\"],\n",
    "    \"1338\": [f\"{s}5\" for s in \"ABCDEFGH\"],\n",
    "    # Plate 1\n",
    "    \"83\": [\"A2\", \"A6\", \"B3\", \"C4\", \"D3\", \"E2\", \"E6\", \"F5\", \"G4\", \"H3\"],\n",
    "    \"2880\": [\"A3\", \"B2\", \"B6\", \"C5\", \"D4\", \"E3\", \"F2\", \"F6\", \"G5\", \"H4\"],\n",
    "    \"3224\": [\"A4\", \"B5\", \"C2\", \"C6\", \"D5\", \"E4\", \"F3\", \"G2\", \"G6\", \"H5\"],\n",
    "    \"121\": [\"A5\", \"B4\", \"C3\", \"D2\", \"D6\", \"E5\", \"F4\", \"G3\", \"H2\", \"H6\"],\n",
    "    # Plate 2\n",
    "    \"626\": [\"A2\", \"A6\", \"B3\", \"C4\", \"D3\", \"E2\", \"E6\", \"F5\", \"G4\", \"H3\"],\n",
    "    \"1414\": [\"A3\", \"B2\", \"B6\", \"C5\", \"D4\", \"E3\", \"F2\", \"F6\", \"G5\", \"H4\"],\n",
    "    \"911\": [\"A4\", \"B5\", \"C2\", \"C6\", \"D5\", \"E4\", \"F3\", \"G2\", \"G6\", \"H5\"],\n",
    "    \"900\": [\"A5\", \"B4\", \"C3\", \"D2\", \"D6\", \"E5\", \"F4\", \"G3\", \"H2\", \"H6\"],\n",
    "    # Plate 3\n",
    "    \"575\": [\"A4\", \"B5\", \"C2\", \"C6\", \"D5\", \"E4\", \"F3\", \"G2\", \"G6\", \"H5\"],\n",
    "    \"985\": [\"A5\", \"B4\", \"C3\", \"D2\", \"D6\", \"E5\", \"F4\", \"G3\", \"H2\", \"H6\"],\n",
    "    # Plate 4\n",
    "    \"13\": [\"A3\", \"B2\", \"B6\", \"C5\", \"D4\", \"E3\", \"F2\", \"F6\", \"G5\", \"H4\"],\n",
    "    \"567\": [\"A2\", \"A6\", \"B3\", \"C4\", \"D3\", \"E2\", \"E6\", \"F5\", \"G4\", \"H3\"],\n",
    "}\n",
    "\n",
    "gene2wells_pbs = {\n",
    "    # Plate 0\n",
    "    \"9708\": [f\"{s}10\" for s in \"ABCDEFGH\"],\n",
    "    \"4111\": [f\"{s}9\" for s in \"ABCDEFGH\"],\n",
    "    \"132\": [f\"{s}11\" for s in \"ABCDEFGH\"],\n",
    "    \"1338\": [f\"{s}8\" for s in \"ABCDEFGH\"],\n",
    "    # Plate 1\n",
    "    \"83\": [\"A7\", \"A11\", \"B10\", \"C9\", \"D8\", \"E7\", \"E11\", \"F10\", \"G9\", \"H8\"],\n",
    "    \"2880\": [\"A8\", \"B7\", \"B11\", \"C10\", \"D9\", \"E8\", \"F7\", \"F11\", \"G10\", \"H9\"],\n",
    "    \"3224\": [\"A9\", \"B8\", \"C7\", \"C11\", \"D10\", \"E9\", \"F8\", \"G7\", \"G11\", \"H10\"],\n",
    "    \"121\": [\"A10\", \"B9\", \"C8\", \"D7\", \"D11\", \"E10\", \"F9\", \"G8\", \"H7\", \"H11\"],\n",
    "    # Plate 2\n",
    "    \"626\": [\"A7\", \"A11\", \"B10\", \"C9\", \"D8\", \"E7\", \"E11\", \"F10\", \"G9\", \"H8\"],\n",
    "    \"1414\": [\"A8\", \"B7\", \"B11\", \"C10\", \"D9\", \"E8\", \"F7\", \"F11\", \"G10\", \"H9\"],\n",
    "    \"911\": [\"A9\", \"B8\", \"C7\", \"C11\", \"D10\", \"E9\", \"F8\", \"G7\", \"G11\", \"H10\"],\n",
    "    \"900\": [\"A10\", \"B9\", \"C8\", \"D7\", \"D11\", \"E10\", \"F9\", \"G8\", \"H7\", \"H11\"],\n",
    "    # Plate 3\n",
    "    \"575\": [\"A9\", \"B8\", \"C7\", \"C11\", \"D10\", \"E9\", \"F8\", \"G7\", \"G11\", \"H10\"],\n",
    "    \"985\": [\"A10\", \"B9\", \"C8\", \"D7\", \"D11\", \"E10\", \"F9\", \"G8\", \"H7\", \"H11\"],\n",
    "    # Plate 4\n",
    "    \"13\": [\"A7\", \"A11\", \"B10\", \"C9\", \"D8\", \"E7\", \"E11\", \"F10\", \"G9\", \"H8\"],\n",
    "    \"567\": [\"A8\", \"B7\", \"B11\", \"C10\", \"D9\", \"E8\", \"F7\", \"F11\", \"G10\", \"H9\"],\n",
    "}\n",
    "\n",
    "# Plate 3 - Fluorescence, and Plate 4 - only 567\n",
    "gene2wells_urea_fl = {\n",
    "    \"13\": [\"A2\", \"A6\", \"B3\", \"C2\", \"D3\", \"E2\", \"E6\", \"F5\", \"G4\", \"H3\"],\n",
    "    \"567\": [\"A2\", \"A6\", \"B3\", \"C4\", \"D3\", \"E2\", \"E6\", \"F5\", \"G4\", \"H3\"],\n",
    "    \"575\": [\"A4\", \"B5\", \"C4\", \"C6\", \"D5\", \"E4\", \"F3\", \"G2\", \"G6\", \"H5\"],\n",
    "    \"985\": [\"A5\", \"B4\", \"C3\", \"D2\", \"D6\", \"E5\", \"F4\", \"G3\", \"H2\", \"H6\"],\n",
    "}\n",
    "\n",
    "gene2wells_pbs_fl4 = {\n",
    "    \"567\": [\"A7\", \"A11\", \"B10\", \"C9\", \"D8\", \"E7\", \"E11\", \"F10\", \"G9\", \"H8\"],\n",
    "}\n",
    "\n",
    "gene2wells_fl = {}\n",
    "for gene, gene_wells_pbs in gene2wells_pbs.items():\n",
    "    if gene not in [\"13\", \"567\", \"575\", \"985\"]:\n",
    "        gene2wells_fl[gene] = gene2wells_urea[gene] + gene_wells_pbs\n",
    "    else:\n",
    "        if gene == \"567\":\n",
    "            gene2wells_fl[gene] = gene2wells_urea_fl[gene] + gene2wells_pbs_fl4[gene]\n",
    "        else:\n",
    "            gene2wells_fl[gene] = gene2wells_urea_fl[gene] + gene_wells_pbs\n",
    "\n",
    "gene2wells_abs = {\n",
    "    gene: gene2wells_urea[gene] + gene_wells_pbs\n",
    "    for gene, gene_wells_pbs in gene2wells_pbs.items()\n",
    "}"
   ]
  },
  {
   "cell_type": "markdown",
   "id": "04916258",
   "metadata": {},
   "source": [
    "## 1. Processing raw data and initial plotting"
   ]
  },
  {
   "cell_type": "markdown",
   "id": "f33446dd-c17e-4050-abc0-0959d030f922",
   "metadata": {},
   "source": [
    "Functions for reading excel files, substracting blanks and plotting initial spectra can be found in `utils.py`."
   ]
  },
  {
   "cell_type": "code",
   "execution_count": null,
   "id": "8181702d-6f6b-4680-bbb6-60311cc0a20f",
   "metadata": {},
   "outputs": [],
   "source": []
  },
  {
   "cell_type": "markdown",
   "id": "1d2e0bf9",
   "metadata": {},
   "source": [
    "## 2. Plotting Absorbance"
   ]
  },
  {
   "cell_type": "markdown",
   "id": "0c305d04",
   "metadata": {},
   "source": [
    "Reading Absorbance from all 3 plates:"
   ]
  },
  {
   "cell_type": "code",
   "execution_count": null,
   "id": "c358eee8",
   "metadata": {},
   "outputs": [],
   "source": [
    "abs0 = process_raw_excel(\n",
    "    [\n",
    "        \"data/210518_abs_urea_200ul_newclytia_1.xlsx\",\n",
    "        \"data/210518_abs_urea_200ul_newclytia_2.xlsx\",\n",
    "        \"data/210518_abs_urea_200ul_newclytia_3.xlsx\",\n",
    "    ],\n",
    "    n_rows_skip=792,\n",
    ")\n",
    "abs1 = process_raw_excel(\n",
    "    [\n",
    "        \"data/220531_urea_200ul_abs__cgre83-2880-3224-121___data1.xlsx\",\n",
    "        \"data/220531_urea_200ul_abs__cgre83-2880-3224-121___data2.xlsx\",\n",
    "        \"data/220531_urea_200ul_abs__cgre83-2880-3224-121___data3.xlsx\",\n",
    "        \"data/220531_urea_200ul_abs__cgre83-2880-3224-121___data4.xlsx\",\n",
    "    ],\n",
    "    n_rows_skip=792,\n",
    ")\n",
    "abs2 = process_raw_excel(\n",
    "    [\n",
    "        \"data/220610_urea_200ul_abs__cgre626-900-911-1414__data1.xlsx\",\n",
    "        \"data/220610_urea_200ul_abs__cgre626-900-911-1414__data2.xlsx\",\n",
    "        \"data/220610_urea_200ul_abs__cgre626-900-911-1414__data3.xlsx\",\n",
    "    ],\n",
    "    n_rows_skip=790,\n",
    ")\n",
    "abs3 = process_raw_excel(\n",
    "    [\n",
    "        \"data/220613_urea_200ul_abs__cgre13-567-575-985__data1.xlsx\",\n",
    "        \"data/220613_urea_200ul_abs__cgre13-567-575-985__data2.xlsx\",\n",
    "        \"data/220613_urea_200ul_abs__cgre13-567-575-985__data3.xlsx\",\n",
    "    ],\n",
    "    n_rows_skip=790,\n",
    ")\n",
    "abs4 = process_raw_excel(\n",
    "    [\n",
    "        \"data/220622_urea_200ul_abs__cgre13-567__data1.xlsx\",\n",
    "        \"data/220622_urea_200ul_abs__cgre13-567__data2.xlsx\",\n",
    "        \"data/220622_urea_200ul_abs__cgre13-567__data3.xlsx\",\n",
    "    ],\n",
    "    n_rows_skip=790,\n",
    ")"
   ]
  },
  {
   "cell_type": "code",
   "execution_count": null,
   "id": "0f91082d-bd9a-47a0-a4cc-e1de3aad03b9",
   "metadata": {},
   "outputs": [],
   "source": []
  },
  {
   "cell_type": "code",
   "execution_count": null,
   "id": "88b3ea10",
   "metadata": {},
   "outputs": [],
   "source": [
    "abs0_sub = subtract_blanks(abs0, blanks_urea, blanks_pbs, wells_urea, wells_pbs)\n",
    "abs1_sub = subtract_blanks(abs1, blanks_urea, blanks_pbs, wells_urea, wells_pbs)\n",
    "abs2_sub = subtract_blanks(abs2, blanks_urea, blanks_pbs, wells_urea, wells_pbs)\n",
    "abs3_sub = subtract_blanks(abs3, blanks_urea, blanks_pbs, wells_urea, wells_pbs)\n",
    "abs4_sub = subtract_blanks(abs4, blanks_urea, blanks_pbs, wells_urea, wells_pbs)"
   ]
  },
  {
   "cell_type": "markdown",
   "id": "34788a52",
   "metadata": {},
   "source": [
    "### Plate 0:\n",
    "\n",
    "PBS:"
   ]
  },
  {
   "cell_type": "code",
   "execution_count": null,
   "id": "62c74860",
   "metadata": {
    "scrolled": true
   },
   "outputs": [],
   "source": [
    "plot_spectra(\n",
    "    abs0_sub, [\"9708\", \"4111\", \"132\", \"1338\"], gene2wells_pbs, \"Absorbance\", urea=False\n",
    ")"
   ]
  },
  {
   "cell_type": "markdown",
   "id": "143b825c",
   "metadata": {},
   "source": [
    "Urea:"
   ]
  },
  {
   "cell_type": "code",
   "execution_count": null,
   "id": "363ecf2d",
   "metadata": {},
   "outputs": [],
   "source": [
    "plot_spectra(\n",
    "    abs0_sub, [\"9708\", \"4111\", \"132\", \"1338\"], gene2wells_urea, \"Absorbance\", urea=True\n",
    ")"
   ]
  },
  {
   "cell_type": "markdown",
   "id": "c20a1294",
   "metadata": {},
   "source": [
    "**WELLS TO EXCLUDE**:\n",
    "\n",
    "PBS: A10, B10, C10, A9, B9, C9, A11, B11, A8, B8\n",
    "\n",
    "Urea: A3, H3, A4, H4, A2, H2"
   ]
  },
  {
   "cell_type": "markdown",
   "id": "65e05bcb",
   "metadata": {},
   "source": [
    "### Plate 1:\n",
    "\n",
    "PBS:"
   ]
  },
  {
   "cell_type": "code",
   "execution_count": null,
   "id": "16ce7b12",
   "metadata": {
    "scrolled": true
   },
   "outputs": [],
   "source": [
    "plot_spectra(\n",
    "    abs1_sub, [\"83\", \"2880\", \"3224\", \"121\"], gene2wells_pbs, \"Absorbance\", urea=False\n",
    ")"
   ]
  },
  {
   "cell_type": "markdown",
   "id": "d2c98e49",
   "metadata": {},
   "source": [
    "Urea:"
   ]
  },
  {
   "cell_type": "code",
   "execution_count": null,
   "id": "bf6ef42a",
   "metadata": {},
   "outputs": [],
   "source": [
    "plot_spectra(\n",
    "    abs1_sub, [\"83\", \"2880\", \"3224\", \"121\"], gene2wells_urea, \"Absorbance\", urea=True\n",
    ")"
   ]
  },
  {
   "cell_type": "markdown",
   "id": "03b3a321",
   "metadata": {},
   "source": [
    "**WELLS TO EXCLUDE**:\n",
    "\n",
    "PBS: B10, A8, B11, B8, B9\n",
    "\n",
    "Urea: A6, B6, C6, D6, E6, F6, G6, H6, H4, B5, H2"
   ]
  },
  {
   "cell_type": "markdown",
   "id": "3aed1f19",
   "metadata": {},
   "source": [
    "### Plate 2:\n",
    "\n",
    "PBS:"
   ]
  },
  {
   "cell_type": "code",
   "execution_count": null,
   "id": "4c23f586",
   "metadata": {
    "scrolled": true
   },
   "outputs": [],
   "source": [
    "plot_spectra(\n",
    "    abs2_sub, [\"626\", \"1414\", \"911\", \"900\"], gene2wells_pbs, \"Absorbance\", urea=False\n",
    ")"
   ]
  },
  {
   "cell_type": "markdown",
   "id": "a600374c",
   "metadata": {},
   "source": [
    "Urea:"
   ]
  },
  {
   "cell_type": "code",
   "execution_count": null,
   "id": "6bcf17ef",
   "metadata": {},
   "outputs": [],
   "source": [
    "plot_spectra(\n",
    "    abs2_sub, [\"626\", \"1414\", \"911\", \"900\"], gene2wells_urea, \"Absorbance\", urea=True\n",
    ")"
   ]
  },
  {
   "cell_type": "markdown",
   "id": "0a1af15a",
   "metadata": {},
   "source": [
    "**WELLS TO EXCLUDE**:\n",
    "\n",
    "PBS: A7, B10, C9, A8, C10, A9, B8, C11, B9, C8, H7\n",
    "\n",
    "Urea: F6, D4, B6, F3, H6, D6"
   ]
  },
  {
   "cell_type": "markdown",
   "id": "659932b1",
   "metadata": {},
   "source": [
    "### Plate 3:\n",
    "\n",
    "PBS:"
   ]
  },
  {
   "cell_type": "code",
   "execution_count": null,
   "id": "f7941351",
   "metadata": {
    "scrolled": true
   },
   "outputs": [],
   "source": [
    "plot_spectra(\n",
    "    abs3_sub, [\"575\", \"985\"], gene2wells_pbs, \"Absorbance\", urea=False, figsize=(40, 8)\n",
    ")"
   ]
  },
  {
   "cell_type": "markdown",
   "id": "1cca92b0",
   "metadata": {},
   "source": [
    "Urea:"
   ]
  },
  {
   "cell_type": "code",
   "execution_count": null,
   "id": "70d7601d",
   "metadata": {},
   "outputs": [],
   "source": [
    "plot_spectra(\n",
    "    abs3_sub, [\"575\", \"985\"], gene2wells_urea, \"Absorbance\", urea=True, figsize=(40, 8)\n",
    ")"
   ]
  },
  {
   "cell_type": "markdown",
   "id": "3d85286f",
   "metadata": {},
   "source": [
    "**WELLS TO EXCLUDE**:\n",
    "\n",
    "PBS: A9, B8, B9, A10\n",
    "\n",
    "Urea: C6, G6, H6, D6"
   ]
  },
  {
   "cell_type": "markdown",
   "id": "e5ab03d4",
   "metadata": {},
   "source": [
    "### Plate 4:\n",
    "\n",
    "PBS:"
   ]
  },
  {
   "cell_type": "code",
   "execution_count": null,
   "id": "45d61160",
   "metadata": {
    "scrolled": true
   },
   "outputs": [],
   "source": [
    "plot_spectra(\n",
    "    abs4_sub, [\"13\", \"567\"], gene2wells_pbs, \"Absorbance\", urea=False, figsize=(40, 8)\n",
    ")"
   ]
  },
  {
   "cell_type": "markdown",
   "id": "5aad4cf6",
   "metadata": {},
   "source": [
    "Urea:"
   ]
  },
  {
   "cell_type": "code",
   "execution_count": null,
   "id": "dda34ea1",
   "metadata": {},
   "outputs": [],
   "source": [
    "plot_spectra(\n",
    "    abs4_sub, [\"13\", \"567\"], gene2wells_urea, \"Absorbance\", urea=True, figsize=(40, 8)\n",
    ")"
   ]
  },
  {
   "cell_type": "markdown",
   "id": "963e6dc1",
   "metadata": {},
   "source": [
    "**WELLS TO EXCLUDE**:\n",
    "\n",
    "PBS: A7, A11, B10, B11, B7, A8\n",
    "\n",
    "Urea: B6, F6"
   ]
  },
  {
   "cell_type": "markdown",
   "id": "e912019c",
   "metadata": {},
   "source": [
    "### Wild-Type (WT)\n",
    "\n",
    "These files exist already in preprocessed format, so we can plot them directly. "
   ]
  },
  {
   "cell_type": "code",
   "execution_count": null,
   "id": "9711e7a6",
   "metadata": {},
   "outputs": [],
   "source": [
    "absWT = pd.read_csv(\"data/cgreWT_absorbance.csv\", index_col=\"Unnamed: 0\").reset_index(\n",
    "    drop=True\n",
    ")"
   ]
  },
  {
   "cell_type": "code",
   "execution_count": null,
   "id": "12e8250a",
   "metadata": {},
   "outputs": [],
   "source": [
    "plt.figure(figsize=(40, 8), dpi=200)\n",
    "u = list(set(absWT[absWT.treatment == \"urea\"].replicate))\n",
    "p = list(set(absWT[absWT.treatment == \"pbs\"].replicate))\n",
    "\n",
    "for i in range(8):\n",
    "    plt.subplot(2, 8, i + 1)\n",
    "    sns.lineplot(\n",
    "        data=absWT[absWT.replicate == p[i]],\n",
    "        x=\"wavelength\",\n",
    "        y=\"signal\",\n",
    "        hue=\"time\",\n",
    "        palette=sns.cubehelix_palette(start=0.5, rot=-0.5, as_cmap=True),\n",
    "    )\n",
    "    plt.title(f\"cgreWT ({u[i]})\", fontsize=18)\n",
    "    plt.ylabel(\"Absorbance (PBS)\", fontsize=16)\n",
    "    plt.xlabel(\"Wavelength\", fontsize=16)\n",
    "\n",
    "    plt.subplot(2, 8, i + 9)\n",
    "    sns.lineplot(\n",
    "        data=absWT[absWT.replicate == u[i]],\n",
    "        x=\"wavelength\",\n",
    "        y=\"signal\",\n",
    "        hue=\"time\",\n",
    "        palette=sns.cubehelix_palette(start=0.5, rot=-0.5, as_cmap=True),\n",
    "    )\n",
    "    plt.title(f\"cgreWT ({p[i]})\", fontsize=18)\n",
    "    plt.ylabel(\"Absorbance (9M Urea)\", fontsize=16)\n",
    "    plt.xlabel(\"Wavelength\", fontsize=16)\n",
    "\n",
    "plt.tight_layout()"
   ]
  },
  {
   "cell_type": "markdown",
   "id": "b1b72a92",
   "metadata": {},
   "source": [
    "## 3. Plotting Fluorescence"
   ]
  },
  {
   "cell_type": "markdown",
   "id": "31cd724e",
   "metadata": {},
   "source": [
    "Reading Absorbance from all 3 plates:"
   ]
  },
  {
   "cell_type": "code",
   "execution_count": null,
   "id": "7acea4c2",
   "metadata": {},
   "outputs": [],
   "source": [
    "fl0 = process_raw_excel(\n",
    "    [\n",
    "        \"data/210608_fluo_urea_200ul_newclytia_1.xlsx\",\n",
    "        \"data/210608_fluo_urea_200ul_newclytia_2.xlsx\",\n",
    "        \"data/210608_fluo_urea_200ul_newclytia_3.xlsx\",\n",
    "    ],\n",
    "    n_rows_skip=1210,\n",
    ")\n",
    "fl1 = process_raw_excel(\n",
    "    [\n",
    "        \"data/220531_fluo_200ul__cgre83-2880-3224-121__data1.xlsx\",\n",
    "        \"data/220531_fluo_200ul__cgre83-2880-3224-121__data2.xlsx\",\n",
    "        \"data/220531_fluo_200ul__cgre83-2880-3224-121__data3.xlsx\",\n",
    "    ],\n",
    "    n_rows_skip=1210,\n",
    ")\n",
    "fl2 = process_raw_excel(\n",
    "    [\n",
    "        \"data/220608_fluo_200ul__cgre626-900-911-1414__data1.xlsx\",\n",
    "        \"data/220608_fluo_200ul__cgre626-900-911-1414__data2.xlsx\",\n",
    "        \"data/220608_fluo_200ul__cgre626-900-911-1414__data3.xlsx\",\n",
    "    ],\n",
    "    n_rows_skip=1210,\n",
    ")\n",
    "fl3 = process_raw_excel(\n",
    "    [\n",
    "        \"data/220613_fluo_200ul_cgre13-567-575-985__data1.xlsx\",\n",
    "        \"data/220613_fluo_200ul_cgre13-567-575-985__data2.xlsx\",\n",
    "        \"data/220613_fluo_200ul_cgre13-567-575-985__data3.xlsx\",\n",
    "    ],\n",
    "    n_rows_skip=1210,\n",
    ")\n",
    "fl4 = process_raw_excel(\n",
    "    [\n",
    "        \"data/220622_fluo_200ul_cgre567_and_10Mcomps__data1.xlsx\",\n",
    "        \"data/220622_fluo_200ul_cgre567_and_10Mcomps__data2.xlsx\",\n",
    "        \"data/220622_fluo_200ul_cgre567_and_10Mcomps__data3.xlsx\",\n",
    "    ],\n",
    "    n_rows_skip=1210,\n",
    ")"
   ]
  },
  {
   "cell_type": "code",
   "execution_count": null,
   "id": "cae3155b",
   "metadata": {},
   "outputs": [],
   "source": [
    "fl0_sub = subtract_blanks(fl0, blanks_urea, blanks_pbs, wells_urea, wells_pbs)\n",
    "fl1_sub = subtract_blanks(fl1, blanks_urea, blanks_pbs, wells_urea, wells_pbs)\n",
    "fl2_sub = subtract_blanks(fl2, blanks_urea, blanks_pbs, wells_urea, wells_pbs)\n",
    "fl3_sub = subtract_blanks(fl3, blanks_urea, blanks_pbs, wells_urea, wells_pbs)\n",
    "fl4_sub = subtract_blanks(fl4, blanks_urea, blanks_pbs, wells_urea, wells_pbs)"
   ]
  },
  {
   "cell_type": "markdown",
   "id": "509e7476",
   "metadata": {},
   "source": [
    "### Plate 0:\n",
    "\n",
    "PBS:"
   ]
  },
  {
   "cell_type": "code",
   "execution_count": null,
   "id": "2413b445",
   "metadata": {
    "scrolled": true
   },
   "outputs": [],
   "source": [
    "plot_spectra(\n",
    "    fl0_sub, [\"9708\", \"4111\", \"132\", \"1338\"], gene2wells_pbs, \"Fluorescence\", urea=False\n",
    ")"
   ]
  },
  {
   "cell_type": "markdown",
   "id": "b91c25db",
   "metadata": {},
   "source": [
    "Urea:"
   ]
  },
  {
   "cell_type": "code",
   "execution_count": null,
   "id": "8ed8b1ff",
   "metadata": {},
   "outputs": [],
   "source": [
    "plot_spectra(\n",
    "    fl0_sub, [\"9708\", \"4111\", \"132\", \"1338\"], gene2wells_urea, \"Fluorescence\", urea=True\n",
    ")"
   ]
  },
  {
   "cell_type": "markdown",
   "id": "613ef3d3",
   "metadata": {},
   "source": [
    "**WELLS TO EXCLUDE**:\n",
    "\n",
    "PBS: A10, H10, A9, H9, A8, H8, A11\n",
    "\n",
    "Urea:\n",
    "\n",
    "Louisa says None, I agree, was too harsh. "
   ]
  },
  {
   "cell_type": "markdown",
   "id": "f5b0fc09",
   "metadata": {},
   "source": [
    "### Plate 1:\n",
    "\n",
    "PBS:"
   ]
  },
  {
   "cell_type": "code",
   "execution_count": null,
   "id": "2ecbc080",
   "metadata": {
    "scrolled": true
   },
   "outputs": [],
   "source": [
    "plot_spectra(\n",
    "    fl1_sub, [\"83\", \"2880\", \"3224\", \"121\"], gene2wells_pbs, \"Fluorescence\", urea=False\n",
    ")"
   ]
  },
  {
   "cell_type": "markdown",
   "id": "55934ebd",
   "metadata": {},
   "source": [
    "Urea:"
   ]
  },
  {
   "cell_type": "code",
   "execution_count": null,
   "id": "4e159fba",
   "metadata": {},
   "outputs": [],
   "source": [
    "plot_spectra(\n",
    "    fl1_sub, [\"83\", \"2880\", \"3224\", \"121\"], gene2wells_urea, \"Fluorescence\", urea=True\n",
    ")"
   ]
  },
  {
   "cell_type": "markdown",
   "id": "993d99b2",
   "metadata": {},
   "source": [
    "**WELLS TO EXCLUDE**:\n",
    "\n",
    "PBS: \n",
    "\n",
    "Urea: B6, F6, D6, H6\n"
   ]
  },
  {
   "cell_type": "markdown",
   "id": "41fe378d",
   "metadata": {},
   "source": [
    "### Plate 2:\n",
    "\n",
    "PBS:"
   ]
  },
  {
   "cell_type": "code",
   "execution_count": null,
   "id": "7f87972e",
   "metadata": {
    "scrolled": true
   },
   "outputs": [],
   "source": [
    "plot_spectra(\n",
    "    fl2_sub, [\"626\", \"1414\", \"911\", \"900\"], gene2wells_pbs, \"Fluorescence\", urea=False\n",
    ")"
   ]
  },
  {
   "cell_type": "markdown",
   "id": "7f826e78",
   "metadata": {},
   "source": [
    "Urea:"
   ]
  },
  {
   "cell_type": "code",
   "execution_count": null,
   "id": "4d8595a7",
   "metadata": {},
   "outputs": [],
   "source": [
    "plot_spectra(\n",
    "    fl2_sub, [\"626\", \"1414\", \"911\", \"900\"], gene2wells_urea, \"Fluorescence\", urea=True\n",
    ")"
   ]
  },
  {
   "cell_type": "markdown",
   "id": "e898d88b",
   "metadata": {},
   "source": [
    "**WELLS TO EXCLUDE**:\n",
    "\n",
    "PBS:\n",
    "\n",
    "Urea: \n"
   ]
  },
  {
   "cell_type": "markdown",
   "id": "380aafd0",
   "metadata": {},
   "source": [
    "### Plate 3:\n",
    "\n",
    "PBS:"
   ]
  },
  {
   "cell_type": "code",
   "execution_count": null,
   "id": "2e034d3d",
   "metadata": {
    "scrolled": true
   },
   "outputs": [],
   "source": [
    "plot_spectra(\n",
    "    fl3_sub,\n",
    "    [\"13\", \"575\", \"985\"],\n",
    "    gene2wells_pbs,\n",
    "    \"Fluorescence\",\n",
    "    urea=False,\n",
    "    figsize=(40, 12),\n",
    ")"
   ]
  },
  {
   "cell_type": "markdown",
   "id": "7f577e10",
   "metadata": {},
   "source": [
    "Urea:"
   ]
  },
  {
   "cell_type": "code",
   "execution_count": null,
   "id": "5f1d490c",
   "metadata": {},
   "outputs": [],
   "source": [
    "gene2wells_urea_fl3 = {\n",
    "    \"13\": [\"A2\", \"A6\", \"B3\", \"C2\", \"D3\", \"E2\", \"E6\", \"F5\", \"G4\", \"H3\"],\n",
    "    \"567\": [\"A3\", \"B2\", \"B6\", \"C5\", \"D4\", \"E3\", \"F2\", \"F6\", \"G5\", \"H4\"],\n",
    "    \"575\": [\"A4\", \"B5\", \"C4\", \"C6\", \"D5\", \"E4\", \"F3\", \"G2\", \"G6\", \"H5\"],\n",
    "    \"985\": [\"A5\", \"B4\", \"C3\", \"D2\", \"D6\", \"E5\", \"F4\", \"G3\", \"H2\", \"H6\"],\n",
    "}\n",
    "plot_spectra(\n",
    "    fl3_sub,\n",
    "    [\"13\", \"575\", \"985\"],\n",
    "    gene2wells_urea_fl3,\n",
    "    \"Fluorescence\",\n",
    "    urea=True,\n",
    "    figsize=(40, 12),\n",
    ")"
   ]
  },
  {
   "cell_type": "markdown",
   "id": "5975ba48",
   "metadata": {},
   "source": [
    "**WELLS TO EXCLUDE**:\n",
    "\n",
    "PBS:\n",
    "\n",
    "Urea: A6, E6, D6, H6"
   ]
  },
  {
   "cell_type": "markdown",
   "id": "30a52bd6",
   "metadata": {},
   "source": [
    "### Plate 4:\n",
    "\n",
    "PBS:"
   ]
  },
  {
   "cell_type": "code",
   "execution_count": null,
   "id": "3075b723",
   "metadata": {
    "scrolled": true
   },
   "outputs": [],
   "source": [
    "gene2wells_urea_fl = {\n",
    "    \"13\": [\"A2\", \"A6\", \"B3\", \"C2\", \"D3\", \"E2\", \"E6\", \"F5\", \"G4\", \"H3\"],\n",
    "    \"567\": [\"A2\", \"A6\", \"B3\", \"C4\", \"D3\", \"E2\", \"E6\", \"F5\", \"G4\", \"H3\"],\n",
    "    \"575\": [\"A4\", \"B5\", \"C4\", \"C6\", \"D5\", \"E4\", \"F3\", \"G2\", \"G6\", \"H5\"],\n",
    "    \"985\": [\"A5\", \"B4\", \"C3\", \"D2\", \"D6\", \"E5\", \"F4\", \"G3\", \"H2\", \"H6\"],\n",
    "}\n",
    "\n",
    "gene2wells_pbs_fl4 = {\n",
    "    \"567\": [\"A7\", \"A11\", \"B10\", \"C9\", \"D8\", \"E7\", \"E11\", \"F10\", \"G9\", \"H8\"],\n",
    "}\n",
    "plot_spectra(\n",
    "    fl4_sub, [\"567\"], gene2wells_pbs_fl4, \"Fluorescence\", urea=False, figsize=(40, 4)\n",
    ")"
   ]
  },
  {
   "cell_type": "markdown",
   "id": "fe0524e9",
   "metadata": {},
   "source": [
    "Urea:"
   ]
  },
  {
   "cell_type": "code",
   "execution_count": null,
   "id": "8e9ea7d1",
   "metadata": {},
   "outputs": [],
   "source": [
    "plot_spectra(\n",
    "    fl1_sub, [\"567\"], gene2wells_urea_fl, \"Fluorescence\", urea=True, figsize=(40, 4)\n",
    ")"
   ]
  },
  {
   "cell_type": "markdown",
   "id": "33f22b68",
   "metadata": {},
   "source": [
    "**WELLS TO EXCLUDE**:\n",
    "\n",
    "PBS: C9\n",
    "\n",
    "Urea: \n"
   ]
  },
  {
   "cell_type": "markdown",
   "id": "9e1138a6",
   "metadata": {},
   "source": [
    "### Wild-Type (WT)"
   ]
  },
  {
   "cell_type": "code",
   "execution_count": null,
   "id": "949e98cc",
   "metadata": {},
   "outputs": [],
   "source": [
    "flWT = pd.read_csv(\"data/cgreWT_fluorescence.csv\", index_col=\"Unnamed: 0\").reset_index(\n",
    "    drop=True\n",
    ")"
   ]
  },
  {
   "cell_type": "code",
   "execution_count": null,
   "id": "f9575350",
   "metadata": {},
   "outputs": [],
   "source": [
    "plt.figure(figsize=(40, 8), dpi=200)\n",
    "u = list(set(flWT[flWT.treatment == \"urea\"].replicate))\n",
    "p = list(set(flWT[flWT.treatment == \"pbs\"].replicate))\n",
    "\n",
    "for i in range(8):\n",
    "    plt.subplot(2, 8, i + 1)\n",
    "    sns.lineplot(\n",
    "        data=flWT[flWT.replicate == p[i]],\n",
    "        x=\"wavelength\",\n",
    "        y=\"signal\",\n",
    "        hue=\"time\",\n",
    "        palette=sns.cubehelix_palette(start=0.5, rot=-0.5, as_cmap=True),\n",
    "    )\n",
    "    plt.title(f\"cgreWT ({u[i]})\", fontsize=18)\n",
    "    plt.ylabel(\"Absorbance (PBS)\", fontsize=16)\n",
    "    plt.xlabel(\"Wavelength\", fontsize=16)\n",
    "\n",
    "    plt.subplot(2, 8, i + 9)\n",
    "    sns.lineplot(\n",
    "        data=flWT[flWT.replicate == u[i]],\n",
    "        x=\"wavelength\",\n",
    "        y=\"signal\",\n",
    "        hue=\"time\",\n",
    "        palette=sns.cubehelix_palette(start=0.5, rot=-0.5, as_cmap=True),\n",
    "    )\n",
    "    plt.title(f\"cgreWT ({p[i]})\", fontsize=18)\n",
    "    plt.ylabel(\"Absorbance (9M Urea)\", fontsize=16)\n",
    "    plt.xlabel(\"Wavelength\", fontsize=16)\n",
    "\n",
    "plt.tight_layout()"
   ]
  },
  {
   "cell_type": "markdown",
   "id": "9df36cc2",
   "metadata": {},
   "source": [
    "# Excluding the wells that are outliers"
   ]
  },
  {
   "cell_type": "code",
   "execution_count": null,
   "id": "20ea439b",
   "metadata": {},
   "outputs": [],
   "source": [
    "exclude_abs0 = [\n",
    "    \"A10\",\n",
    "    \"B10\",\n",
    "    \"C10\",\n",
    "    \"A9\",\n",
    "    \"B9\",\n",
    "    \"C9\",\n",
    "    \"A11\",\n",
    "    \"B11\",\n",
    "    \"A8\",\n",
    "    \"B8\",\n",
    "    \"A3\",\n",
    "    \"H3\",\n",
    "    \"A4\",\n",
    "    \"H4\",\n",
    "    \"A2\",\n",
    "    \"H2\",\n",
    "]\n",
    "exclude_abs1 = [\n",
    "    \"B10\",\n",
    "    \"A8\",\n",
    "    \"B11\",\n",
    "    \"B8\",\n",
    "    \"B9\",\n",
    "    \"A6\",\n",
    "    \"B6\",\n",
    "    \"C6\",\n",
    "    \"D6\",\n",
    "    \"E6\",\n",
    "    \"F6\",\n",
    "    \"G6\",\n",
    "    \"H6\",\n",
    "    \"H4\",\n",
    "    \"B5\",\n",
    "    \"H2\",\n",
    "]\n",
    "exclude_abs2 = [\n",
    "    \"A7\",\n",
    "    \"B10\",\n",
    "    \"C9\",\n",
    "    \"A8\",\n",
    "    \"C10\",\n",
    "    \"A9\",\n",
    "    \"B8\",\n",
    "    \"C11\",\n",
    "    \"B9\",\n",
    "    \"C8\",\n",
    "    \"H7\",\n",
    "    \"F6\",\n",
    "    \"D4\",\n",
    "    \"B6\",\n",
    "    \"F3\",\n",
    "    \"H6\",\n",
    "    \"D6\",\n",
    "]\n",
    "exclude_abs3 = [\"A9\", \"B8\", \"B9\", \"A10\", \"C6\", \"G6\", \"H6\", \"D6\"]\n",
    "exclude_abs4 = [\"A7\", \"A11\", \"B10\", \"B11\", \"B7\", \"A8\", \"B6\", \"F6\"]\n",
    "\n",
    "\n",
    "exclude_fl0 = []\n",
    "exclude_fl1 = [\"B6\", \"F6\", \"D6\", \"H6\"]\n",
    "exclude_fl2 = []\n",
    "exclude_fl3 = [\"A6\", \"E6\", \"D6\", \"H6\"]\n",
    "exclude_fl4 = [\"C9\"]"
   ]
  },
  {
   "cell_type": "code",
   "execution_count": null,
   "id": "02b1bb06",
   "metadata": {},
   "outputs": [],
   "source": [
    "wells2gene_0_abs = wells2genes(\n",
    "    [\"9708\", \"4111\", \"132\", \"1338\"], gene2wells_abs, exclude_abs0\n",
    ")\n",
    "wells2gene_1_abs = wells2genes(\n",
    "    [\"83\", \"2880\", \"3224\", \"121\"], gene2wells_abs, exclude_abs1\n",
    ")\n",
    "wells2gene_2_abs = wells2genes(\n",
    "    [\"626\", \"900\", \"911\", \"1414\"], gene2wells_abs, exclude_abs2\n",
    ")\n",
    "wells2gene_3_abs = wells2genes([\"575\", \"985\"], gene2wells_abs, exclude_abs3)\n",
    "wells2gene_4_abs = wells2genes([\"13\", \"567\"], gene2wells_abs, exclude_abs4)\n",
    "\n",
    "\n",
    "abs_plt_wells2gene_data = {\n",
    "    0: [wells2gene_0_abs, abs0_sub],\n",
    "    1: [wells2gene_1_abs, abs1_sub],\n",
    "    2: [wells2gene_2_abs, abs2_sub],\n",
    "    3: [wells2gene_3_abs, abs3_sub],\n",
    "    4: [wells2gene_4_abs, abs4_sub],\n",
    "}"
   ]
  },
  {
   "cell_type": "code",
   "execution_count": null,
   "id": "85238b84",
   "metadata": {},
   "outputs": [],
   "source": [
    "wells2gene_0_fl = wells2genes(\n",
    "    [\"9708\", \"4111\", \"132\", \"1338\"], gene2wells_fl, exclude_fl0\n",
    ")\n",
    "wells2gene_1_fl = wells2genes([\"83\", \"2880\", \"3224\", \"121\"], gene2wells_fl, exclude_fl1)\n",
    "wells2gene_2_fl = wells2genes([\"626\", \"900\", \"911\", \"1414\"], gene2wells_fl, exclude_fl2)\n",
    "wells2gene_3_fl = wells2genes([\"13\", \"575\", \"985\"], gene2wells_fl, exclude_fl3)\n",
    "wells2gene_4_fl = wells2genes([\"567\"], gene2wells_fl, exclude_fl4)\n",
    "\n",
    "\n",
    "fl_plt_wells2gene_data = {\n",
    "    0: [wells2gene_0_fl, fl0_sub],\n",
    "    1: [wells2gene_1_fl, fl1_sub],\n",
    "    2: [wells2gene_2_fl, fl2_sub],\n",
    "    3: [wells2gene_3_fl, fl3_sub],\n",
    "    4: [wells2gene_4_fl, fl4_sub],\n",
    "}"
   ]
  },
  {
   "cell_type": "code",
   "execution_count": null,
   "id": "8b0111f3",
   "metadata": {},
   "outputs": [],
   "source": [
    "spectra_abs = conc_spectra(abs_plt_wells2gene_data)\n",
    "spectra_fl = conc_spectra(fl_plt_wells2gene_data)"
   ]
  },
  {
   "cell_type": "code",
   "execution_count": null,
   "id": "bf9a8707",
   "metadata": {},
   "outputs": [],
   "source": [
    "spectra_abs.head()"
   ]
  },
  {
   "cell_type": "markdown",
   "id": "21076d85",
   "metadata": {},
   "source": [
    "# Normalizing"
   ]
  },
  {
   "cell_type": "markdown",
   "id": "0a7acf15",
   "metadata": {},
   "source": [
    "First we take the first cycle for each well, and take the maximum absorbance across the measured wavelengths."
   ]
  },
  {
   "cell_type": "code",
   "execution_count": null,
   "id": "f3071c85",
   "metadata": {},
   "outputs": [],
   "source": [
    "w = set(spectra_abs.replicate)  # Set of all wells\n",
    "max_abs_by_well = {\n",
    "    well: spectra_abs[(spectra_abs.cycle == 0) & (spectra_abs.replicate == well)][\n",
    "        \"signal\"\n",
    "    ].max()\n",
    "    for well in w\n",
    "}\n",
    "\n",
    "w = set(spectra_fl.replicate)  # Set of all wells\n",
    "max_fl_by_well = {\n",
    "    well: spectra_fl[(spectra_fl.cycle == 0) & (spectra_fl.replicate == well)][\n",
    "        \"signal\"\n",
    "    ].max()\n",
    "    for well in w\n",
    "}"
   ]
  },
  {
   "cell_type": "markdown",
   "id": "3b9beb46",
   "metadata": {},
   "source": [
    "For each gene we take the wavelength at which the absorbance was maximal:"
   ]
  },
  {
   "cell_type": "code",
   "execution_count": null,
   "id": "bde7e25a",
   "metadata": {},
   "outputs": [],
   "source": [
    "# Set of all genes, for absorbance and for fluorescence\n",
    "genes_abs = set(spectra_abs.gene)\n",
    "genes_fl = set(spectra_fl.gene)\n",
    "\n",
    "peaks_abs = {\n",
    "    gene: sorted(\n",
    "        zip(\n",
    "            spectra_abs[(spectra_abs.cycle == 0) & (spectra_abs.gene == gene)][\n",
    "                \"signal\"\n",
    "            ],\n",
    "            spectra_abs[(spectra_abs.cycle == 0) & (spectra_abs.gene == gene)][\n",
    "                \"wavelength\"\n",
    "            ],\n",
    "        ),\n",
    "        reverse=True,\n",
    "    )[0][1]\n",
    "    for gene in genes_abs\n",
    "}\n",
    "\n",
    "peaks_fl = {\n",
    "    gene: sorted(\n",
    "        zip(\n",
    "            spectra_fl[(spectra_fl.cycle == 0) & (spectra_fl.gene == gene)][\"signal\"],\n",
    "            spectra_fl[(spectra_fl.cycle == 0) & (spectra_fl.gene == gene)][\n",
    "                \"wavelength\"\n",
    "            ],\n",
    "        ),\n",
    "        reverse=True,\n",
    "    )[0][1]\n",
    "    for gene in genes_fl\n",
    "}\n",
    "\n",
    "\n",
    "# WT cgre, previous data\n",
    "peaks_abs[\"cgre\"] = 485\n",
    "peaks_fl[\"cgre\"] = 500"
   ]
  },
  {
   "cell_type": "markdown",
   "id": "6fa52822",
   "metadata": {},
   "source": [
    "We create two new columns:\n",
    "* `peak` - True, if it's first cycle and the absorbance on this wavelength is highest\n",
    "* `signal_normalized` - normalized signal, where the signal is divided by the highest signal on cycle 0"
   ]
  },
  {
   "cell_type": "code",
   "execution_count": null,
   "id": "0ae119e9",
   "metadata": {},
   "outputs": [],
   "source": [
    "spectra_abs[\"peak\"] = spectra_abs[[\"gene\", \"wavelength\"]].apply(\n",
    "    lambda x: True if x[1] == peaks_abs[x[0]] else False, axis=1\n",
    ")\n",
    "spectra_abs[\"signal_normalized\"] = spectra_abs[[\"replicate\", \"signal\"]].apply(\n",
    "    lambda x: x[1] / max_abs_by_well[x[0]], axis=1\n",
    ")\n",
    "\n",
    "spectra_fl[\"peak\"] = spectra_fl[[\"gene\", \"wavelength\"]].apply(\n",
    "    lambda x: True if x[1] == peaks_fl[x[0]] else False, axis=1\n",
    ")\n",
    "spectra_fl[\"signal_normalized\"] = spectra_fl[[\"replicate\", \"signal\"]].apply(\n",
    "    lambda x: x[1] / max_fl_by_well[x[0]], axis=1\n",
    ")"
   ]
  },
  {
   "cell_type": "markdown",
   "id": "4f017d0d",
   "metadata": {},
   "source": [
    "## Merging WT and the rest"
   ]
  },
  {
   "cell_type": "code",
   "execution_count": null,
   "id": "08f3ce96",
   "metadata": {},
   "outputs": [],
   "source": [
    "absWT.rename({\"time\": \"cycle\"}, axis=1, inplace=True)\n",
    "flWT.rename({\"time\": \"cycle\"}, axis=1, inplace=True)"
   ]
  },
  {
   "cell_type": "code",
   "execution_count": null,
   "id": "9cae688c",
   "metadata": {},
   "outputs": [],
   "source": [
    "spectra_abs = pd.concat([spectra_abs, absWT]).reset_index(drop=True)\n",
    "spectra_fl = pd.concat([spectra_fl, flWT]).reset_index(drop=True)"
   ]
  },
  {
   "cell_type": "markdown",
   "id": "141e5eb6",
   "metadata": {},
   "source": [
    "# Plotting the absorbance and fluorescence curves for each gene"
   ]
  },
  {
   "cell_type": "code",
   "execution_count": null,
   "id": "d2e651cd",
   "metadata": {},
   "outputs": [],
   "source": [
    "fig = plt.figure(figsize=(9, 15), dpi=200)\n",
    "i = 1\n",
    "for gene in [\n",
    "    2880,\n",
    "    575,\n",
    "    83,\n",
    "    121,\n",
    "    13,\n",
    "    567,\n",
    "    3224,\n",
    "    900,\n",
    "    626,\n",
    "    985,\n",
    "    911,\n",
    "    1414,\n",
    "    \"cgre\",\n",
    "    1338,\n",
    "    132,\n",
    "    9708,\n",
    "    4111,\n",
    "]:\n",
    "    plot = plt.subplot(6, 3, i)\n",
    "\n",
    "    sns.lineplot(\n",
    "        data=spectra_abs[\n",
    "            (spectra_abs.gene == str(gene)) & (spectra_abs.treatment == \"pbs\")\n",
    "        ],\n",
    "        x=\"wavelength\",\n",
    "        y=\"signal_normalized\",\n",
    "        hue=\"cycle\",\n",
    "        legend=False,\n",
    "        linewidth=2,\n",
    "        ci=None,\n",
    "        alpha=0.5,\n",
    "        palette=\"mako_r\",\n",
    "    )\n",
    "\n",
    "    # Share the x axis\n",
    "    plot_fl = plt.twinx()\n",
    "    sns.lineplot(\n",
    "        data=spectra_fl[\n",
    "            (spectra_fl.gene == str(gene)) & (spectra_fl.treatment == \"pbs\")\n",
    "        ],\n",
    "        x=\"wavelength\",\n",
    "        y=\"signal_normalized\",\n",
    "        hue=\"cycle\",\n",
    "        legend=False,\n",
    "        linewidth=2,\n",
    "        ci=None,\n",
    "        alpha=0.5,\n",
    "        palette=sns.cubehelix_palette(start=0, rot=-0.5, as_cmap=True),\n",
    "    )\n",
    "\n",
    "    plt.title(\"cgreWT\" if gene == \"cgre\" else f\"cgre{gene}\", fontsize=18)\n",
    "    plot.set_xlabel(\"Wavelength [nm]\", fontsize=14)\n",
    "    plot.set_ylabel(\"Signal (absorbance)\", fontsize=14)\n",
    "    plot_fl.set_ylabel(\"Signal (fluorescence)\", fontsize=14)\n",
    "    i += 1\n",
    "\n",
    "plt.tight_layout()\n",
    "plt.savefig(\"fl_abs_timeline_pbs.png\", dpi=300)"
   ]
  },
  {
   "cell_type": "code",
   "execution_count": null,
   "id": "c5c83e29",
   "metadata": {},
   "outputs": [],
   "source": [
    "plt.figure(figsize=(9, 15), dpi=200)\n",
    "i = 1\n",
    "for gene in [\n",
    "    2880,\n",
    "    575,\n",
    "    83,\n",
    "    121,\n",
    "    13,\n",
    "    567,\n",
    "    3224,\n",
    "    900,\n",
    "    626,\n",
    "    985,\n",
    "    911,\n",
    "    1414,\n",
    "    \"cgre\",\n",
    "    1338,\n",
    "    132,\n",
    "    9708,\n",
    "    4111,\n",
    "]:\n",
    "    plot = plt.subplot(6, 3, i)\n",
    "\n",
    "    sns.lineplot(\n",
    "        data=spectra_abs[\n",
    "            (spectra_abs.gene == str(gene)) & (spectra_abs.treatment == \"urea\")\n",
    "        ],\n",
    "        x=\"wavelength\",\n",
    "        y=\"signal_normalized\",\n",
    "        hue=\"cycle\",\n",
    "        legend=False,\n",
    "        linewidth=2,\n",
    "        ci=None,\n",
    "        alpha=0.5,\n",
    "        palette=\"mako_r\",\n",
    "    )\n",
    "\n",
    "    plot_fl = plt.twinx()\n",
    "    sns.lineplot(\n",
    "        data=spectra_fl[\n",
    "            (spectra_fl.gene == str(gene)) & (spectra_fl.treatment == \"urea\")\n",
    "        ],\n",
    "        x=\"wavelength\",\n",
    "        y=\"signal_normalized\",\n",
    "        hue=\"cycle\",\n",
    "        legend=False,\n",
    "        linewidth=2,\n",
    "        ci=None,\n",
    "        alpha=0.5,\n",
    "        palette=sns.cubehelix_palette(start=0, rot=-0.5, as_cmap=True),\n",
    "    )\n",
    "\n",
    "    plt.title(\"cgreWT\" if gene == \"cgre\" else f\"cgre{gene}\", fontsize=18)\n",
    "    plot.set_xlabel(\"Wavelength [nm]\", fontsize=14)\n",
    "    plot.set_ylabel(\"Signal (absorbance)\", fontsize=14)\n",
    "    plot_fl.set_ylabel(\"Signal (fluorescence)\", fontsize=14)\n",
    "    i += 1\n",
    "\n",
    "plt.tight_layout()\n",
    "plt.savefig(\"fl_abs_timeline_urea.png\", dpi=300)"
   ]
  },
  {
   "cell_type": "markdown",
   "id": "cd2b5368",
   "metadata": {},
   "source": [
    "# Changes of signal intensity over number of cycles"
   ]
  },
  {
   "cell_type": "markdown",
   "id": "2d368f9a",
   "metadata": {},
   "source": [
    "Quantifying Urea \"melting temperature\".\n",
    "\n",
    "A couple of methods:\n",
    "- taking first derivative of the plots and taking it's maximum - this does not work, as the denaturation starts right away, the maximum value always on the first cycle?\n",
    "- taking the first derivative of the plots on their linear part\n",
    "- taking the number of the cycles at which the fluorescence is halved"
   ]
  },
  {
   "cell_type": "markdown",
   "id": "4ec4c099",
   "metadata": {},
   "source": [
    "## Absorbance\n",
    "\n",
    "### In PBS"
   ]
  },
  {
   "cell_type": "code",
   "execution_count": null,
   "id": "b5cdc885",
   "metadata": {},
   "outputs": [],
   "source": [
    "plt.figure(figsize=(20, 4), dpi=200)\n",
    "sns.lineplot(\n",
    "    data=spectra_abs[\n",
    "        (spectra_abs.treatment == \"pbs\")\n",
    "        & (spectra_abs.peak == True)\n",
    "        & (spectra_abs.cycle <= 100)\n",
    "    ],\n",
    "    x=\"cycle\",\n",
    "    y=\"signal_normalized\",\n",
    "    ci=\"sd\",\n",
    "    hue=\"gene\",\n",
    "    hue_order=[\n",
    "        str(x)\n",
    "        for x in (\n",
    "            \"cgre\",\n",
    "            1338,\n",
    "            132,\n",
    "            9708,\n",
    "            4111,\n",
    "            2880,\n",
    "            3224,\n",
    "            575,\n",
    "            900,\n",
    "            83,\n",
    "            626,\n",
    "            121,\n",
    "            985,\n",
    "            13,\n",
    "            911,\n",
    "            567,\n",
    "            1414,\n",
    "        )\n",
    "    ],\n",
    "    palette=sns.hls_palette(17, s=0.5),\n",
    ")\n",
    "plt.legend(frameon=False, bbox_to_anchor=(1, 0.5), loc=\"center left\")"
   ]
  },
  {
   "cell_type": "markdown",
   "id": "25d40b2e",
   "metadata": {},
   "source": [
    "### In Urea"
   ]
  },
  {
   "cell_type": "code",
   "execution_count": null,
   "id": "3f9bd4e4",
   "metadata": {
    "scrolled": true
   },
   "outputs": [],
   "source": [
    "plt.figure(figsize=(20, 4), dpi=200)\n",
    "sns.lineplot(\n",
    "    data=spectra_abs[\n",
    "        (spectra_abs.treatment == \"pbs\")\n",
    "        & (spectra_abs.peak == True)\n",
    "        & (spectra_abs.cycle <= 100)\n",
    "    ],\n",
    "    x=\"cycle\",\n",
    "    y=\"signal_normalized\",\n",
    "    ci=\"sd\",\n",
    "    hue=\"gene\",\n",
    "    hue_order=[\n",
    "        str(x)\n",
    "        for x in (\n",
    "            \"cgre\",\n",
    "            1338,\n",
    "            132,\n",
    "            9708,\n",
    "            4111,\n",
    "            2880,\n",
    "            3224,\n",
    "            575,\n",
    "            900,\n",
    "            83,\n",
    "            626,\n",
    "            121,\n",
    "            985,\n",
    "            13,\n",
    "            911,\n",
    "            567,\n",
    "            1414,\n",
    "        )\n",
    "    ],\n",
    "    palette=sns.hls_palette(17, s=0.5),\n",
    ")\n",
    "plt.legend(frameon=False, bbox_to_anchor=(1, 0.5), loc=\"center left\")"
   ]
  },
  {
   "cell_type": "code",
   "execution_count": null,
   "id": "9523f754",
   "metadata": {},
   "outputs": [],
   "source": [
    "plt.figure(figsize=(9, 15), dpi=200)\n",
    "i = 1\n",
    "for gene in (\n",
    "    \"cgre\",\n",
    "    1338,\n",
    "    132,\n",
    "    9708,\n",
    "    4111,\n",
    "    2880,\n",
    "    3224,\n",
    "    575,\n",
    "    900,\n",
    "    83,\n",
    "    626,\n",
    "    121,\n",
    "    985,\n",
    "    13,\n",
    "    911,\n",
    "    567,\n",
    "    1414,\n",
    "):\n",
    "    plot = plt.subplot(6, 3, i)\n",
    "\n",
    "    sns.lineplot(\n",
    "        data=spectra_abs[\n",
    "            (spectra_abs.treatment == \"urea\")\n",
    "            & (spectra_abs.peak == True)\n",
    "            & (spectra_abs.cycle <= 100)\n",
    "            & (spectra_abs.gene == str(gene))\n",
    "        ],\n",
    "        x=\"cycle\",\n",
    "        y=\"signal_normalized\",\n",
    "        ci=\"sd\",\n",
    "        color=sns.hls_palette(17, s=0.5)[i - 1],\n",
    "    )\n",
    "\n",
    "    plt.title(f\"{gene}\", fontsize=18)\n",
    "    plot.set_xlabel(\"Cycle\", fontsize=14)\n",
    "    plot.set_ylabel(\"Signal (9M urea)\", fontsize=14)\n",
    "    plt.yticks(ticks=[0, 0.25, 0.50, 0.75, 1.])\n",
    "    #plt.xticks(ticks=list(range(0, 101, 5)), rotation=45, fontsize=8)\n",
    "\n",
    "    i += 1\n",
    "\n",
    "plt.tight_layout()"
   ]
  },
  {
   "cell_type": "code",
   "execution_count": null,
   "id": "2f43dcd9",
   "metadata": {},
   "outputs": [],
   "source": [
    "plt.figure(figsize=(9, 15), dpi=200)\n",
    "i = 1\n",
    "for gene in (\n",
    "    \"cgre\",\n",
    "    1338,\n",
    "    132,\n",
    "    9708,\n",
    "    4111,\n",
    "    2880,\n",
    "    3224,\n",
    "    575,\n",
    "    900,\n",
    "    83,\n",
    "    626,\n",
    "    121,\n",
    "    985,\n",
    "    13,\n",
    "    911,\n",
    "    567,\n",
    "    1414,\n",
    "):\n",
    "    plot = plt.subplot(6, 3, i)\n",
    "\n",
    "    sns.lineplot(\n",
    "        data=spectra_abs[\n",
    "            (spectra_abs.treatment == \"urea\")\n",
    "            & (spectra_abs.peak == True)\n",
    "            & (spectra_abs.cycle <= 10)\n",
    "            & (spectra_abs.gene == str(gene))\n",
    "        ],\n",
    "        x=\"cycle\",\n",
    "        y=\"signal_normalized\",\n",
    "        ci=\"sd\",\n",
    "        color=sns.hls_palette(17, s=0.5)[i - 1],\n",
    "    )\n",
    "\n",
    "    plt.title(f\"{gene}\", fontsize=18)\n",
    "    plt.xticks(ticks=list(range(0, 10, 1)))\n",
    "    \n",
    "    plot.set_xlabel(\"Cycle\", fontsize=14)\n",
    "    plot.set_ylabel(\"Signal (9M urea)\", fontsize=14)\n",
    "    plt.yticks(ticks=[0, 0.25, 0.50, 0.75, 1.])\n",
    "\n",
    "    i += 1\n",
    "\n",
    "plt.tight_layout()"
   ]
  },
  {
   "cell_type": "markdown",
   "id": "711734d8",
   "metadata": {},
   "source": [
    "**1st derivative** "
   ]
  },
  {
   "cell_type": "code",
   "execution_count": null,
   "id": "6ba041cb",
   "metadata": {},
   "outputs": [],
   "source": [
    "# Taking the peaks of the urea-treated genes, first 100 cycles, and grouping over genes and cycles, taking mean of the replicates\n",
    "abs_before_diff = (\n",
    "    spectra_abs[\n",
    "        (spectra_abs.treatment == \"urea\")\n",
    "        & (spectra_abs.peak == True)\n",
    "        & (spectra_abs.cycle <= 100)\n",
    "    ]\n",
    "    .groupby([\"gene\", \"cycle\"], as_index=False)\n",
    "    .mean()\n",
    ")\n",
    "# Taking the 1st derivative of the signal\n",
    "abs_diff = (\n",
    "    pd.DataFrame(\n",
    "        abs_before_diff.groupby(\"gene\")[\"signal_normalized\"].apply(lambda x: np.diff(x))\n",
    "    )\n",
    "    .explode(\"signal_normalized\")\n",
    "    .reset_index()\n",
    "    .rename(columns={\"signal_normalized\": \"df_signal\"})\n",
    ")\n",
    "# Taking cycles as the cumulative count of the genes\n",
    "abs_diff[\"cycle\"] = abs_diff.groupby(\"gene\").cumcount()"
   ]
  },
  {
   "cell_type": "code",
   "execution_count": null,
   "id": "c8cc40cb",
   "metadata": {
    "scrolled": true
   },
   "outputs": [],
   "source": [
    "plt.figure(figsize=[20, 4], dpi=200)\n",
    "sns.lineplot(\n",
    "    data=abs_diff,\n",
    "    x=\"cycle\",\n",
    "    y=\"df_signal\",\n",
    "    ci=\"sd\",\n",
    "    hue=\"gene\",\n",
    "    hue_order=[\n",
    "        str(x)\n",
    "        for x in (\n",
    "            \"cgre\",\n",
    "            1338,\n",
    "            132,\n",
    "            9708,\n",
    "            4111,\n",
    "            2880,\n",
    "            3224,\n",
    "            575,\n",
    "            900,\n",
    "            83,\n",
    "            626,\n",
    "            121,\n",
    "            985,\n",
    "            13,\n",
    "            911,\n",
    "            567,\n",
    "            1414,\n",
    "        )\n",
    "    ],\n",
    "    palette=sns.hls_palette(17, s=0.5),\n",
    ")\n",
    "plt.ylim(0, 0.1)\n",
    "plt.legend(frameon=False, bbox_to_anchor=(1, 0.5), loc=\"center left\")"
   ]
  },
  {
   "cell_type": "markdown",
   "id": "098419aa",
   "metadata": {},
   "source": [
    "#### Max derivative\n",
    "We see, the graphs are sad. Let's take the max of the derivative for each gene:"
   ]
  },
  {
   "cell_type": "code",
   "execution_count": null,
   "id": "613c1319",
   "metadata": {},
   "outputs": [],
   "source": [
    "abs_diff.groupby(\"gene\").max()[\"df_signal\"]"
   ]
  },
  {
   "cell_type": "markdown",
   "id": "d8c00491",
   "metadata": {},
   "source": [
    "#### Slope\n",
    "\n",
    "Let's take the slope over the linear part of the graph:"
   ]
  },
  {
   "cell_type": "code",
   "execution_count": null,
   "id": "7ba8a034",
   "metadata": {},
   "outputs": [],
   "source": [
    "abs_lin_part_dict = {\n",
    "    \"cgre\": [1, 35],\n",
    "    # Plate 0\n",
    "    \"9708\": [1, 20],\n",
    "    \"4111\": [1, 20],\n",
    "    \"132\": [1, 20],\n",
    "    \"1338\": [1, 25],\n",
    "    # Plate 1\n",
    "    \"83\": [1, 9],\n",
    "    \"2880\": [1, 20],\n",
    "    \"3224\": [0, 40],\n",
    "    \"121\": [2, 20],\n",
    "    # Plate 2\n",
    "    \"626\": [1, 6],\n",
    "    \"1414\": [1, 60],\n",
    "    \"911\": [0, 3],\n",
    "    \"900\": [1, 60],\n",
    "    # Plate 3\n",
    "    \"575\": [1, 25],\n",
    "    \"985\": [1, 20],\n",
    "    # Plate 4\n",
    "    \"13\": [1, 40],\n",
    "    \"567\": [0, 2],\n",
    "}"
   ]
  },
  {
   "cell_type": "code",
   "execution_count": null,
   "id": "0e9e872e",
   "metadata": {},
   "outputs": [],
   "source": [
    "abs_slope_per_gene = {}\n",
    "for key, values in abs_lin_part_dict.items():\n",
    "    abs_df_per_gene = abs_before_diff[\n",
    "        (abs_before_diff.gene == key)\n",
    "        & (abs_before_diff.cycle >= values[0])\n",
    "        & (abs_before_diff.cycle <= values[1])\n",
    "    ]\n",
    "    slope = linregress(abs_df_per_gene[\"cycle\"], abs_df_per_gene[\"signal_normalized\"])[\n",
    "        0\n",
    "    ]\n",
    "\n",
    "    abs_slope_per_gene[key] = slope"
   ]
  },
  {
   "cell_type": "code",
   "execution_count": null,
   "id": "81ae985b",
   "metadata": {},
   "outputs": [],
   "source": [
    "abs_slope_per_gene"
   ]
  },
  {
   "cell_type": "markdown",
   "id": "65cda783",
   "metadata": {},
   "source": [
    "**Idea: make a graph with the slope and the fluorescence curves for each gene, showcasing the correlation**"
   ]
  },
  {
   "cell_type": "markdown",
   "id": "55abd2c3",
   "metadata": {},
   "source": [
    "#### Cycle at 1/2\n",
    "\n",
    "Here we take a look at the number of the cycle where the value of the fluorescence is halved:"
   ]
  },
  {
   "cell_type": "code",
   "execution_count": null,
   "id": "3e8ba4d0",
   "metadata": {},
   "outputs": [],
   "source": [
    "spectra_abs.head()"
   ]
  },
  {
   "cell_type": "code",
   "execution_count": null,
   "id": "6cc5d073",
   "metadata": {},
   "outputs": [],
   "source": [
    "abs_urea_peaks = (\n",
    "    spectra_abs[(spectra_abs.treatment == \"urea\") & (spectra_abs.peak == True)]\n",
    "    .groupby([\"gene\", \"cycle\"], as_index=False)\n",
    "    .mean()\n",
    ")"
   ]
  },
  {
   "cell_type": "code",
   "execution_count": null,
   "id": "e038cd05",
   "metadata": {},
   "outputs": [],
   "source": [
    "abs_gene_half_2_cycle = (\n",
    "    abs_urea_peaks[abs_urea_peaks.signal_normalized <= 0.5]\n",
    "    .groupby(\"gene\")\n",
    "    .min()[\"cycle\"]\n",
    "    .to_dict()\n",
    ")"
   ]
  },
  {
   "cell_type": "code",
   "execution_count": null,
   "id": "de0cea09",
   "metadata": {},
   "outputs": [],
   "source": [
    "abs_gene_half_2_cycle"
   ]
  },
  {
   "cell_type": "markdown",
   "id": "528c85ef",
   "metadata": {},
   "source": [
    "Genes that have never reached the half:"
   ]
  },
  {
   "cell_type": "code",
   "execution_count": null,
   "id": "4d7889ea",
   "metadata": {},
   "outputs": [],
   "source": [
    "abs_res_genes = set(abs_lin_part_dict.keys()) - set(abs_gene_half_2_cycle.keys())"
   ]
  },
  {
   "cell_type": "code",
   "execution_count": null,
   "id": "910b9f74",
   "metadata": {},
   "outputs": [],
   "source": [
    "abs_urea_peaks[abs_urea_peaks.gene.isin(abs_res_genes)].groupby(\"gene\").max()"
   ]
  },
  {
   "cell_type": "markdown",
   "id": "b715a1fb",
   "metadata": {},
   "source": [
    "121 and 2880 reach half - 107 +, 985 - 133 +"
   ]
  },
  {
   "cell_type": "code",
   "execution_count": null,
   "id": "01a84e70",
   "metadata": {},
   "outputs": [],
   "source": [
    "abs_gene_half_2_cycle.update({\"121\": 107, \"2880\": 107, \"985\": 133})"
   ]
  },
  {
   "cell_type": "code",
   "execution_count": null,
   "id": "d7460762",
   "metadata": {},
   "outputs": [],
   "source": [
    "abs_res_genes = set(abs_lin_part_dict.keys()) - set(abs_gene_half_2_cycle.keys())"
   ]
  },
  {
   "cell_type": "code",
   "execution_count": null,
   "id": "47721715",
   "metadata": {},
   "outputs": [],
   "source": [
    "abs_res_genes"
   ]
  },
  {
   "cell_type": "markdown",
   "id": "d9a23062",
   "metadata": {},
   "source": [
    "### Fitting curves"
   ]
  },
  {
   "cell_type": "code",
   "execution_count": null,
   "id": "06b861e7",
   "metadata": {},
   "outputs": [],
   "source": [
    "fig = plt.figure(figsize=[9, 15], dpi=200)\n",
    "i = 1\n",
    "metrics_per_gene = {}\n",
    "sigm_params = {}\n",
    "\n",
    "for gene in (\n",
    "    \"cgre\",\n",
    "    1338,\n",
    "    132,\n",
    "    9708,\n",
    "    4111,\n",
    "    2880,\n",
    "    3224,\n",
    "    575,\n",
    "    900,\n",
    "    83,\n",
    "    626,\n",
    "    121,\n",
    "    985,\n",
    "    13,\n",
    "    911,\n",
    "    567,\n",
    "    1414,\n",
    "):\n",
    "    plot = plt.subplot(6, 3, i)\n",
    "\n",
    "    abs_urea_peak = spectra_abs[\n",
    "        (spectra_abs.treatment == \"urea\")\n",
    "        & (spectra_abs.peak == True)\n",
    "        & (spectra_abs.cycle <= 100)\n",
    "        & (spectra_abs.gene == str(gene))\n",
    "    ]\n",
    "    peak_wv = np.unique(abs_urea_peak[\"wavelength\"])[0]\n",
    "\n",
    "    sns.lineplot(\n",
    "        data=abs_urea_peak,\n",
    "        x=\"cycle\",\n",
    "        y=\"signal_normalized\",\n",
    "        ci=\"sd\",\n",
    "        label=f\"Absorbance\\nat {peak_wv} $nm$\",\n",
    "        color=sns.color_palette(\"mako\", n_colors=4)[0],\n",
    "    )\n",
    "\n",
    "    mean_abs_urea = abs_urea_peak.groupby(\"cycle\", as_index=False).mean()\n",
    "    x = mean_abs_urea.cycle + 1\n",
    "    y = mean_abs_urea.signal_normalized\n",
    "\n",
    "    # Sigmoid\n",
    "    # Initial params\n",
    "    sigm_p0 = [max(y), np.median(x), 1, min(y)]\n",
    "    # Fitting\n",
    "    sigm_popt, sigm_pcov = curve_fit(sigmoid, x, y, sigm_p0, method=\"lm\", maxfev=10000)\n",
    "\n",
    "    sigm_x = np.linspace(1, 100, 1000)\n",
    "    sigm_y = sigmoid(sigm_x, *sigm_popt)\n",
    "    sigm_line = plt.plot(\n",
    "        sigm_x,\n",
    "        sigm_y,\n",
    "        #                          label='$sigmoid$',\n",
    "        c=sns.color_palette(\"mako\", n_colors=4)[1],\n",
    "    )\n",
    "\n",
    "    # Exponential\n",
    "    # Initial params\n",
    "    exp_p0 = [np.max(y), -1]\n",
    "    # Fitting\n",
    "    exp_popt, exp_pcov = curve_fit(exponential, x, y, exp_p0, method=\"lm\")\n",
    "    exp_x = np.linspace(1, 100, 1000)\n",
    "    exp_y = exponential(exp_x, *exp_popt)\n",
    "    exp_line = plt.plot(\n",
    "        exp_x,\n",
    "        exp_y,\n",
    "        #                         label='$exp$',\n",
    "        c=sns.color_palette(\"mako\", n_colors=4)[2],\n",
    "    )\n",
    "\n",
    "    # Logarithmic\n",
    "    # Initial params\n",
    "    log_p0 = [1, 1, 0]\n",
    "    # Fitting\n",
    "    log_popt, log_pcov = curve_fit(logarithmic, x, y, log_p0, method=\"lm\", maxfev=10000)\n",
    "\n",
    "    log_x = np.linspace(1, 100, 1000)\n",
    "    log_y = logarithmic(log_x, *log_popt)\n",
    "    log_line = plt.plot(\n",
    "        log_x,\n",
    "        log_y,\n",
    "        #                         label='$log$',\n",
    "        c=sns.color_palette(\"mako\", n_colors=4)[3],\n",
    "    )\n",
    "\n",
    "    # Non-parametric correlation coeffecient (no presumptions about data)\n",
    "    sigm_pred_y = sigmoid(x, *sigm_popt)\n",
    "    exp_pred_y = exponential(x, *exp_popt)\n",
    "    log_pred_y = logarithmic(x, *log_popt)\n",
    "    metrics_per_gene[str(gene)] = {\n",
    "        \"kendall_sigm\": kendalltau(y, sigm_pred_y).correlation,\n",
    "        \"kendall_exp\": kendalltau(y, exp_pred_y).correlation,\n",
    "        \"kendall_log\": kendalltau(y, log_pred_y).correlation,\n",
    "        \"mse_sigm\": mean_squared_error(y, sigm_pred_y),\n",
    "        \"mse_exp\": mean_squared_error(y, exp_pred_y),\n",
    "        \"mse_log\": mean_squared_error(y, log_pred_y),\n",
    "    }\n",
    "\n",
    "    # Saving params for sigm, as the best fitting\n",
    "    sigm_params[gene] = sigm_popt\n",
    "\n",
    "    # Limits\n",
    "    plt.xlabel(None)\n",
    "    plt.ylabel(None)\n",
    "    plt.xticks(ticks=list(range(0, 101, 20)))\n",
    "    plt.ylim(-0.1, 1.2)\n",
    "    #     plt.yticks(ticks=np.linspace(0, 1, 11))\n",
    "\n",
    "    # Labelling\n",
    "    plt.title(f\"cgre{gene if gene != 'cgre' else ''}\", fontsize=16)\n",
    "    plt.legend(loc=\"upper right\", frameon=False, fontsize=10, labelspacing=0.2)\n",
    "\n",
    "    i += 1\n",
    "\n",
    "\n",
    "fig.legend(\n",
    "    handles=[sigm_line[0], exp_line[0], log_line[0]],\n",
    "    labels=[\"$sigmoid$\", \"$exp$\", \"$log$\"],\n",
    "    bbox_to_anchor=(0.867, 0.175),\n",
    "    borderaxespad=0,\n",
    "    fontsize=14,\n",
    "    frameon=False,\n",
    ")\n",
    "fig.supxlabel(\"Cycle\", fontsize=18)\n",
    "fig.supylabel(\"Normalized absorbance\", fontsize=18)\n",
    "\n",
    "plt.tight_layout()\n",
    "plt.savefig(Path(\".\", \"abs_curve_fitting.png\"))"
   ]
  },
  {
   "cell_type": "markdown",
   "id": "a149b330",
   "metadata": {},
   "source": [
    "Making cycle into time:"
   ]
  },
  {
   "cell_type": "code",
   "execution_count": null,
   "id": "3e3542b1",
   "metadata": {},
   "outputs": [],
   "source": [
    "spectra_abs[\"time\"] = spectra_abs[\"cycle\"] * 40 / 60"
   ]
  },
  {
   "cell_type": "code",
   "execution_count": null,
   "id": "b8f21994",
   "metadata": {},
   "outputs": [],
   "source": [
    "fig = plt.figure(figsize=[9, 15], dpi=200)\n",
    "i = 1\n",
    "metrics_per_gene = {}\n",
    "sigm_params = {}\n",
    "\n",
    "for gene in (\n",
    "    \"cgre\",\n",
    "    1338,\n",
    "    132,\n",
    "    9708,\n",
    "    4111,\n",
    "    2880,\n",
    "    3224,\n",
    "    575,\n",
    "    900,\n",
    "    83,\n",
    "    626,\n",
    "    121,\n",
    "    985,\n",
    "    13,\n",
    "    911,\n",
    "    567,\n",
    "    1414,\n",
    "):\n",
    "    plot = plt.subplot(6, 3, i)\n",
    "\n",
    "    abs_urea_peak = spectra_abs[\n",
    "        (spectra_abs.treatment == \"urea\")\n",
    "        & (spectra_abs.peak == True)\n",
    "        & (spectra_abs.time <= 70)\n",
    "        & (spectra_abs.gene == str(gene))\n",
    "    ]\n",
    "    peak_wv = np.unique(abs_urea_peak[\"wavelength\"])[0]\n",
    "\n",
    "    sns.lineplot(\n",
    "        data=abs_urea_peak,\n",
    "        x=\"time\",\n",
    "        y=\"signal_normalized\",\n",
    "        ci=\"sd\",\n",
    "        label=f\"Absorbance\\nat {peak_wv} $nm$\",\n",
    "        color=sns.color_palette(\"mako\", n_colors=4)[0],\n",
    "    )\n",
    "\n",
    "    mean_abs_urea = abs_urea_peak.groupby(\"time\", as_index=False).mean()\n",
    "    x = mean_abs_urea.time + 1\n",
    "    y = mean_abs_urea.signal_normalized\n",
    "\n",
    "    # Sigmoid\n",
    "    # Initial params\n",
    "    sigm_p0 = [max(y), np.median(x), 1, min(y)]\n",
    "    # Fitting\n",
    "    sigm_popt, sigm_pcov = curve_fit(sigmoid, x, y, sigm_p0, method=\"lm\", maxfev=10000)\n",
    "\n",
    "    sigm_x = np.linspace(1, 70, 1000)\n",
    "    sigm_y = sigmoid(sigm_x, *sigm_popt)\n",
    "    sigm_line = plt.plot(\n",
    "        sigm_x,\n",
    "        sigm_y,\n",
    "        #                          label='$sigmoid$',\n",
    "        c=sns.color_palette(\"mako\", n_colors=4)[1],\n",
    "    )\n",
    "\n",
    "    # Exponential\n",
    "    # Initial params\n",
    "    exp_p0 = [np.max(y), -1]\n",
    "    # Fitting\n",
    "    exp_popt, exp_pcov = curve_fit(exponential, x, y, exp_p0, method=\"lm\")\n",
    "    exp_x = np.linspace(1, 70, 1000)\n",
    "    exp_y = exponential(exp_x, *exp_popt)\n",
    "    exp_line = plt.plot(\n",
    "        exp_x,\n",
    "        exp_y,\n",
    "        #                         label='$exp$',\n",
    "        c=sns.color_palette(\"mako\", n_colors=4)[2],\n",
    "    )\n",
    "\n",
    "    # Logarithmic\n",
    "    # Initial params\n",
    "    log_p0 = [1, 1, 0]\n",
    "    # Fitting\n",
    "    log_popt, log_pcov = curve_fit(logarithmic, x, y, log_p0, method=\"lm\", maxfev=10000)\n",
    "\n",
    "    log_x = np.linspace(1, 70, 1000)\n",
    "    log_y = logarithmic(log_x, *log_popt)\n",
    "    log_line = plt.plot(\n",
    "        log_x,\n",
    "        log_y,\n",
    "        #                         label='$log$',\n",
    "        c=sns.color_palette(\"mako\", n_colors=4)[3],\n",
    "    )\n",
    "\n",
    "    # Non-parametric correlation coeffecient (no presumptions about data)\n",
    "    sigm_pred_y = sigmoid(x, *sigm_popt)\n",
    "    exp_pred_y = exponential(x, *exp_popt)\n",
    "    log_pred_y = logarithmic(x, *log_popt)\n",
    "    metrics_per_gene[str(gene)] = {\n",
    "        \"kendall_sigm\": kendalltau(y, sigm_pred_y).correlation,\n",
    "        \"kendall_exp\": kendalltau(y, exp_pred_y).correlation,\n",
    "        \"kendall_log\": kendalltau(y, log_pred_y).correlation,\n",
    "        \"mse_sigm\": mean_squared_error(y, sigm_pred_y),\n",
    "        \"mse_exp\": mean_squared_error(y, exp_pred_y),\n",
    "        \"mse_log\": mean_squared_error(y, log_pred_y),\n",
    "    }\n",
    "\n",
    "    # Saving params for sigm, as the best fitting\n",
    "    sigm_params[gene] = sigm_popt\n",
    "\n",
    "    # Limits\n",
    "    plt.xlabel(None)\n",
    "    plt.ylabel(None)\n",
    "    plt.xticks(ticks=list(range(0, 71, 10)))\n",
    "    plt.ylim(-0.1, 1.2)\n",
    "    #     plt.yticks(ticks=np.linspace(0, 1, 11))\n",
    "\n",
    "    # Labelling\n",
    "    plt.title(f\"cgre{gene if gene != 'cgre' else 'WT'}\", fontsize=16)\n",
    "    plt.legend(loc=\"upper right\", frameon=False, fontsize=10, labelspacing=0.2)\n",
    "\n",
    "    i += 1\n",
    "\n",
    "\n",
    "fig.legend(\n",
    "    handles=[sigm_line[0], exp_line[0], log_line[0]],\n",
    "    labels=[\"$sigmoid$\", \"$exp$\", \"$log$\"],\n",
    "    bbox_to_anchor=(0.867, 0.175),\n",
    "    borderaxespad=0,\n",
    "    fontsize=14,\n",
    "    frameon=False,\n",
    ")\n",
    "fig.supxlabel(\"Time [h]\", fontsize=18)\n",
    "fig.supylabel(\"Normalized absorbance\", fontsize=18)\n",
    "\n",
    "plt.tight_layout()\n",
    "plt.savefig(Path(\".\", \"abs_curve_fitting_time.png\"))"
   ]
  },
  {
   "cell_type": "code",
   "execution_count": null,
   "id": "249ec776",
   "metadata": {},
   "outputs": [],
   "source": [
    "pd.DataFrame(metrics_per_gene).T"
   ]
  },
  {
   "cell_type": "markdown",
   "id": "a4d3a7d0",
   "metadata": {},
   "source": [
    "## Sigmoid best fitting -> Inverse"
   ]
  },
  {
   "cell_type": "markdown",
   "id": "476c1925",
   "metadata": {},
   "source": [
    "Inverse of the sigmoid function:\n",
    "$$\n",
    "    y = \\frac{L}{  (1 + e^{-k \\cdot (x-x_0)})} + b\n",
    "$$"
   ]
  },
  {
   "cell_type": "markdown",
   "id": "835418f0",
   "metadata": {},
   "source": [
    "$$\n",
    "(y - b) = \\frac{L}{  (1 + e^{-k \\cdot (x-x_0)})} \\\\\n",
    " (1 + e^{-k \\cdot (x-x_0)}) = \\frac{L}{ (y - b) } \\\\\n",
    "  e^{-k \\cdot (x-x_0)} = \\frac{L}{ (y - b) } - 1 \\\\\n",
    "  -k \\cdot (x-x_0) = ln(\\frac{L}{ (y - b) } - 1) \\\\\n",
    "  x = - \\frac{ln(\\frac{L}{ (y - b) } - 1)}{k} + x_0 \\\\\n",
    "$$"
   ]
  },
  {
   "cell_type": "code",
   "execution_count": null,
   "id": "7a495c76",
   "metadata": {},
   "outputs": [],
   "source": [
    "# def inverse_sigmoid(y, L ,x0, k, b):\n",
    "#     x = -np.log(L/(y-b) - 1) / k + x0\n",
    "#     return x"
   ]
  },
  {
   "cell_type": "code",
   "execution_count": null,
   "id": "b37b78d9",
   "metadata": {},
   "outputs": [],
   "source": [
    "half_ur_abs = {}\n",
    "for gene, sigm_popt in sigm_params.items():\n",
    "    abs_urea_peak = (\n",
    "        spectra_abs[\n",
    "            (spectra_abs.treatment == \"urea\")\n",
    "            & (spectra_abs.peak == True)\n",
    "            & (spectra_abs.time <= 70)\n",
    "            & (spectra_abs.gene == str(gene))\n",
    "        ]\n",
    "        .groupby(\"time\", as_index=False)\n",
    "        .mean()\n",
    "    )\n",
    "    half_ur_abs[str(gene)] = inverse_sigmoid(0.5, *sigm_popt)"
   ]
  },
  {
   "cell_type": "code",
   "execution_count": null,
   "id": "1372469d",
   "metadata": {},
   "outputs": [],
   "source": [
    "half_ur_abs"
   ]
  },
  {
   "cell_type": "code",
   "execution_count": null,
   "id": "b5f84241",
   "metadata": {},
   "outputs": [],
   "source": [
    "del half_ur_abs[\"cgre\"]"
   ]
  },
  {
   "cell_type": "markdown",
   "id": "84ce1f23",
   "metadata": {},
   "source": [
    "## Fluorescence\n",
    "\n",
    "### In PBS"
   ]
  },
  {
   "cell_type": "code",
   "execution_count": null,
   "id": "153de917",
   "metadata": {},
   "outputs": [],
   "source": [
    "plt.figure(figsize=(20, 4), dpi=200)\n",
    "sns.lineplot(\n",
    "    data=spectra_fl[\n",
    "        (spectra_fl.treatment == \"pbs\")\n",
    "        & (spectra_fl.peak == True)\n",
    "        & (spectra_fl.cycle <= 130)\n",
    "    ],\n",
    "    x=\"cycle\",\n",
    "    y=\"signal_normalized\",\n",
    "    ci=\"sd\",\n",
    "    hue=\"gene\",\n",
    "    hue_order=[\n",
    "        str(x)\n",
    "        for x in (\n",
    "            \"cgre\",\n",
    "            1338,\n",
    "            132,\n",
    "            9708,\n",
    "            4111,\n",
    "            2880,\n",
    "            3224,\n",
    "            575,\n",
    "            900,\n",
    "            83,\n",
    "            626,\n",
    "            121,\n",
    "            985,\n",
    "            13,\n",
    "            911,\n",
    "            567,\n",
    "            1414,\n",
    "        )\n",
    "    ],\n",
    "    palette=sns.hls_palette(17, s=0.5),\n",
    ")\n",
    "plt.legend(frameon=False, bbox_to_anchor=(1, 0.5), loc=\"center left\")"
   ]
  },
  {
   "cell_type": "markdown",
   "id": "94f8d4e1",
   "metadata": {},
   "source": [
    "### In Urea"
   ]
  },
  {
   "cell_type": "code",
   "execution_count": null,
   "id": "c4614409",
   "metadata": {},
   "outputs": [],
   "source": [
    "plt.figure(figsize=(20, 4), dpi=200)\n",
    "sns.lineplot(\n",
    "    data=spectra_fl[\n",
    "        (spectra_fl.treatment == \"urea\")\n",
    "        & (spectra_fl.peak == True)\n",
    "        & (spectra_fl.cycle <= 130)\n",
    "    ],\n",
    "    x=\"cycle\",\n",
    "    y=\"signal_normalized\",\n",
    "    ci=\"sd\",\n",
    "    hue=\"gene\",\n",
    "    hue_order=[\n",
    "        str(x)\n",
    "        for x in (\n",
    "            \"cgre\",\n",
    "            1338,\n",
    "            132,\n",
    "            9708,\n",
    "            4111,\n",
    "            2880,\n",
    "            3224,\n",
    "            575,\n",
    "            900,\n",
    "            83,\n",
    "            626,\n",
    "            121,\n",
    "            985,\n",
    "            13,\n",
    "            911,\n",
    "            567,\n",
    "            1414,\n",
    "        )\n",
    "    ],\n",
    "    palette=sns.hls_palette(17, s=0.5),\n",
    ")\n",
    "plt.legend(frameon=False, bbox_to_anchor=(1, 0.5), loc=\"center left\")"
   ]
  },
  {
   "cell_type": "code",
   "execution_count": null,
   "id": "3ddadd15",
   "metadata": {},
   "outputs": [],
   "source": [
    "plt.figure(figsize=(30, 9), dpi=200)\n",
    "i = 1\n",
    "for gene in (\n",
    "    \"cgre\",\n",
    "    1338,\n",
    "    132,\n",
    "    9708,\n",
    "    4111,\n",
    "    2880,\n",
    "    3224,\n",
    "    575,\n",
    "    900,\n",
    "    83,\n",
    "    626,\n",
    "    121,\n",
    "    985,\n",
    "    13,\n",
    "    911,\n",
    "    567,\n",
    "    1414,\n",
    "):\n",
    "    plot = plt.subplot(3, 6, i)\n",
    "\n",
    "    sns.lineplot(\n",
    "        data=spectra_fl[\n",
    "            (spectra_fl.treatment == \"urea\")\n",
    "            & (spectra_fl.peak == True)\n",
    "            & (spectra_fl.cycle <= 130)\n",
    "            & (spectra_fl.gene == str(gene))\n",
    "        ],\n",
    "        x=\"cycle\",\n",
    "        y=\"signal_normalized\",\n",
    "        ci=\"sd\",\n",
    "        color=sns.hls_palette(17, s=0.5)[i - 1],\n",
    "    )\n",
    "\n",
    "    plt.title(f\"{gene}\", fontsize=18)\n",
    "    plt.xticks(ticks=list(range(0, 131, 5)))\n",
    "\n",
    "    i += 1\n",
    "\n",
    "plt.tight_layout()"
   ]
  },
  {
   "cell_type": "code",
   "execution_count": null,
   "id": "9b476c33",
   "metadata": {},
   "outputs": [],
   "source": [
    "plt.figure(figsize=(30, 9), dpi=200)\n",
    "i = 1\n",
    "for gene in (\n",
    "    \"cgre\",\n",
    "    1338,\n",
    "    132,\n",
    "    9708,\n",
    "    4111,\n",
    "    2880,\n",
    "    3224,\n",
    "    575,\n",
    "    900,\n",
    "    83,\n",
    "    626,\n",
    "    121,\n",
    "    985,\n",
    "    13,\n",
    "    911,\n",
    "    567,\n",
    "    1414,\n",
    "):\n",
    "    plot = plt.subplot(3, 6, i)\n",
    "\n",
    "    sns.lineplot(\n",
    "        data=spectra_fl[\n",
    "            (spectra_fl.treatment == \"urea\")\n",
    "            & (spectra_fl.peak == True)\n",
    "            & (spectra_fl.cycle <= 10)\n",
    "            & (spectra_fl.gene == str(gene))\n",
    "        ],\n",
    "        x=\"cycle\",\n",
    "        y=\"signal_normalized\",\n",
    "        ci=\"sd\",\n",
    "        color=sns.hls_palette(17, s=0.5)[i - 1],\n",
    "    )\n",
    "\n",
    "    plt.title(f\"{gene}\", fontsize=18)\n",
    "    plt.xticks(ticks=list(range(0, 10, 1)))\n",
    "\n",
    "    i += 1\n",
    "\n",
    "plt.tight_layout()"
   ]
  },
  {
   "cell_type": "markdown",
   "id": "e1ab84f6",
   "metadata": {},
   "source": [
    "**1st derivative** "
   ]
  },
  {
   "cell_type": "code",
   "execution_count": null,
   "id": "4b2eed43",
   "metadata": {},
   "outputs": [],
   "source": [
    "# Taking the peaks of the urea-treated genes, first 130 cycles, and grouping over genes and cycles, taking mean of the replicates\n",
    "fl_before_diff = (\n",
    "    spectra_fl[\n",
    "        (spectra_fl.treatment == \"urea\")\n",
    "        & (spectra_fl.peak == True)\n",
    "        & (spectra_fl.cycle <= 130)\n",
    "    ]\n",
    "    .groupby([\"gene\", \"cycle\"], as_index=False)\n",
    "    .mean()\n",
    ")\n",
    "# Taking the 1st derivative of the signal\n",
    "fl_diff = (\n",
    "    pd.DataFrame(\n",
    "        fl_before_diff.groupby(\"gene\")[\"signal_normalized\"].apply(lambda x: -np.diff(x))\n",
    "    )\n",
    "    .explode(\"signal_normalized\")\n",
    "    .reset_index()\n",
    "    .rename(columns={\"signal_normalized\": \"df_signal\"})\n",
    ")\n",
    "# Taking cycles as the cumulative count of the genes\n",
    "fl_diff[\"cycle\"] = fl_diff.groupby(\"gene\").cumcount()"
   ]
  },
  {
   "cell_type": "code",
   "execution_count": null,
   "id": "601bcc99",
   "metadata": {
    "scrolled": true
   },
   "outputs": [],
   "source": [
    "plt.figure(figsize=(20, 4), dpi=200)\n",
    "sns.lineplot(\n",
    "    data=fl_diff,\n",
    "    x=\"cycle\",\n",
    "    y=\"df_signal\",\n",
    "    ci=\"sd\",\n",
    "    hue=\"gene\",\n",
    "    hue_order=[\n",
    "        str(x)\n",
    "        for x in (\n",
    "            \"cgre\",\n",
    "            1338,\n",
    "            132,\n",
    "            9708,\n",
    "            4111,\n",
    "            2880,\n",
    "            3224,\n",
    "            575,\n",
    "            900,\n",
    "            83,\n",
    "            626,\n",
    "            121,\n",
    "            985,\n",
    "            13,\n",
    "            911,\n",
    "            567,\n",
    "            1414,\n",
    "        )\n",
    "    ],\n",
    "    palette=sns.hls_palette(17, s=0.5),\n",
    ")\n",
    "plt.legend(frameon=False, bbox_to_anchor=(1, 0.5), loc=\"center left\")"
   ]
  },
  {
   "cell_type": "markdown",
   "id": "5e146f73",
   "metadata": {},
   "source": [
    "#### Max derivative\n",
    "We see, the graphs are sad. Let's take the max of the derivative for each gene:"
   ]
  },
  {
   "cell_type": "code",
   "execution_count": null,
   "id": "a157a7e8",
   "metadata": {},
   "outputs": [],
   "source": [
    "fl_diff.groupby(\"gene\").max()[\"df_signal\"]"
   ]
  },
  {
   "cell_type": "markdown",
   "id": "8cfea88f",
   "metadata": {},
   "source": [
    "#### Slope\n",
    "\n",
    "Let's take the slope over the linear part of the graph:"
   ]
  },
  {
   "cell_type": "code",
   "execution_count": null,
   "id": "6bc7f682",
   "metadata": {},
   "outputs": [],
   "source": [
    "fl_lin_part_dict = {\n",
    "    \"cgre\": [1, 10],\n",
    "    # Plate 0\n",
    "    \"9708\": [2, 25],\n",
    "    \"4111\": [1, 35],\n",
    "    \"132\": [1, 20],\n",
    "    \"1338\": [1, 7],\n",
    "    # Plate 1\n",
    "    \"83\": [0, 4],\n",
    "    \"2880\": [1, 30],\n",
    "    \"3224\": [0, 15],\n",
    "    \"121\": [0, 5],\n",
    "    # Plate 2\n",
    "    \"626\": [0, 3],\n",
    "    \"1414\": [1, 50],\n",
    "    \"911\": [0, 2],\n",
    "    \"900\": [0, 5],  # ?\n",
    "    # Plate 3\n",
    "    \"575\": [0, 10],\n",
    "    \"985\": [1, 120],\n",
    "    # Plate 4\n",
    "    \"13\": [1, 100],\n",
    "    \"567\": [0, 1],\n",
    "}"
   ]
  },
  {
   "cell_type": "code",
   "execution_count": null,
   "id": "2d9ac180",
   "metadata": {},
   "outputs": [],
   "source": [
    "fl_slope_per_gene = {}\n",
    "for key, values in fl_lin_part_dict.items():\n",
    "    fl_df_per_gene = fl_before_diff[\n",
    "        (fl_before_diff.gene == key)\n",
    "        & (fl_before_diff.cycle >= values[0])\n",
    "        & (fl_before_diff.cycle <= values[1])\n",
    "    ]\n",
    "    slope = linregress(fl_df_per_gene[\"cycle\"], fl_df_per_gene[\"signal_normalized\"])[0]\n",
    "\n",
    "    fl_slope_per_gene[key] = slope"
   ]
  },
  {
   "cell_type": "code",
   "execution_count": null,
   "id": "e8b3135f",
   "metadata": {},
   "outputs": [],
   "source": [
    "fl_slope_per_gene"
   ]
  },
  {
   "cell_type": "markdown",
   "id": "16cb1917",
   "metadata": {},
   "source": [
    "**Idea: make a graph with the slope and the fluorescence curves for each gene, showcasing the correlation**"
   ]
  },
  {
   "cell_type": "markdown",
   "id": "de211883",
   "metadata": {},
   "source": [
    "#### Cycle at 1/2\n",
    "\n",
    "Here we take a look at the number of the cycle where the value of the fluorescence is halved:"
   ]
  },
  {
   "cell_type": "code",
   "execution_count": null,
   "id": "c880b494",
   "metadata": {},
   "outputs": [],
   "source": [
    "spectra_fl.head()"
   ]
  },
  {
   "cell_type": "code",
   "execution_count": null,
   "id": "3f323994",
   "metadata": {},
   "outputs": [],
   "source": [
    "fl_urea_peaks = (\n",
    "    spectra_fl[(spectra_fl.treatment == \"urea\") & (spectra_fl.peak == True)]\n",
    "    .groupby([\"gene\", \"cycle\"], as_index=False)\n",
    "    .mean()\n",
    ")"
   ]
  },
  {
   "cell_type": "code",
   "execution_count": null,
   "id": "f77d74ac",
   "metadata": {},
   "outputs": [],
   "source": [
    "fl_gene_half_2_cycle = (\n",
    "    fl_urea_peaks[fl_urea_peaks.signal_normalized <= 0.5]\n",
    "    .groupby(\"gene\")\n",
    "    .min()[\"cycle\"]\n",
    "    .to_dict()\n",
    ")"
   ]
  },
  {
   "cell_type": "code",
   "execution_count": null,
   "id": "43825242",
   "metadata": {},
   "outputs": [],
   "source": [
    "fl_gene_half_2_cycle"
   ]
  },
  {
   "cell_type": "markdown",
   "id": "59464b35",
   "metadata": {},
   "source": [
    "Genes that have never reached the half:"
   ]
  },
  {
   "cell_type": "code",
   "execution_count": null,
   "id": "60a7e5f5",
   "metadata": {},
   "outputs": [],
   "source": [
    "fl_res_genes = set(fl_lin_part_dict.keys()) - set(fl_gene_half_2_cycle.keys())"
   ]
  },
  {
   "cell_type": "code",
   "execution_count": null,
   "id": "48bbeab8",
   "metadata": {},
   "outputs": [],
   "source": [
    "fl_res_genes"
   ]
  },
  {
   "cell_type": "code",
   "execution_count": null,
   "id": "0c31d613",
   "metadata": {},
   "outputs": [],
   "source": [
    "fl_urea_peaks[fl_urea_peaks.gene.isin(fl_res_genes)].groupby(\"gene\").max()"
   ]
  },
  {
   "cell_type": "markdown",
   "id": "4c76cb75",
   "metadata": {},
   "source": [
    "All genes reach half! "
   ]
  },
  {
   "cell_type": "markdown",
   "id": "227207fa",
   "metadata": {},
   "source": [
    "### Fitting curves"
   ]
  },
  {
   "cell_type": "code",
   "execution_count": null,
   "id": "d119bc50",
   "metadata": {},
   "outputs": [],
   "source": [
    "fig = plt.figure(figsize=[9, 15], dpi=200)\n",
    "i = 1\n",
    "metrics_per_gene = {}\n",
    "sigm_params = {}\n",
    "\n",
    "for gene in (\n",
    "    \"cgre\",\n",
    "    1338,\n",
    "    132,\n",
    "    9708,\n",
    "    4111,\n",
    "    2880,\n",
    "    3224,\n",
    "    575,\n",
    "    900,\n",
    "    83,\n",
    "    626,\n",
    "    121,\n",
    "    985,\n",
    "    13,\n",
    "    911,\n",
    "    567,\n",
    "    1414,\n",
    "):\n",
    "    plot = plt.subplot(6, 3, i)\n",
    "\n",
    "    fl_urea_peak = spectra_fl[\n",
    "        (spectra_fl.treatment == \"urea\")\n",
    "        & (spectra_fl.peak == True)\n",
    "        & (spectra_fl.cycle <= 135)\n",
    "        & (spectra_fl.gene == str(gene))\n",
    "    ]\n",
    "    peak_wv = np.unique(fl_urea_peak[\"wavelength\"])[0]\n",
    "\n",
    "    sns.lineplot(\n",
    "        data=fl_urea_peak,\n",
    "        x=\"cycle\",\n",
    "        y=\"signal_normalized\",\n",
    "        ci=\"sd\",\n",
    "        label=f\"Fluroscence\\nat {peak_wv} $nm$\",\n",
    "        color=sns.color_palette(\"mako\", n_colors=4)[0],\n",
    "    )\n",
    "\n",
    "    mean_abs_urea = fl_urea_peak.groupby(\"cycle\", as_index=False).mean()\n",
    "    x = mean_abs_urea.cycle + 1\n",
    "    y = mean_abs_urea.signal_normalized\n",
    "\n",
    "    # Sigmoid\n",
    "    # Initial params\n",
    "    sigm_p0 = [max(y), np.median(x), 1, min(y)]\n",
    "    # Fitting\n",
    "    sigm_popt, sigm_pcov = curve_fit(sigmoid, x, y, sigm_p0, method=\"lm\", maxfev=10000)\n",
    "\n",
    "    sigm_x = np.linspace(1, 135, 1000)\n",
    "    sigm_y = sigmoid(sigm_x, *sigm_popt)\n",
    "    sigm_line = plt.plot(\n",
    "        sigm_x,\n",
    "        sigm_y,\n",
    "        #                          label='$sigmoid$',\n",
    "        c=sns.color_palette(\"mako\", n_colors=4)[1],\n",
    "    )\n",
    "\n",
    "    # Exponential\n",
    "    # Initial params\n",
    "    exp_p0 = [np.max(y), -1]\n",
    "    # Fitting\n",
    "    exp_popt, exp_pcov = curve_fit(exponential, x, y, exp_p0, method=\"lm\")\n",
    "    exp_x = np.linspace(1, 135, 1000)\n",
    "    exp_y = exponential(exp_x, *exp_popt)\n",
    "    exp_line = plt.plot(\n",
    "        exp_x,\n",
    "        exp_y,\n",
    "        #                         label='$exp$',\n",
    "        c=sns.color_palette(\"mako\", n_colors=4)[2],\n",
    "    )\n",
    "\n",
    "    # Logarithmic\n",
    "    # Initial params\n",
    "    log_p0 = [1, 1, 0]\n",
    "    # Fitting\n",
    "    log_popt, log_pcov = curve_fit(\n",
    "        logarithmic, x, y, log_p0, method=\"lm\", maxfev=100000\n",
    "    )\n",
    "\n",
    "    log_x = np.linspace(1, 135, 1000)\n",
    "    log_y = logarithmic(log_x, *log_popt)\n",
    "    log_line = plt.plot(\n",
    "        log_x,\n",
    "        log_y,\n",
    "        #                         label='$log$',\n",
    "        c=sns.color_palette(\"mako\", n_colors=4)[3],\n",
    "    )\n",
    "\n",
    "    # Non-parametric correlation coeffecient (no presumptions about data)\n",
    "    sigm_pred_y = sigmoid(x, *sigm_popt)\n",
    "    exp_pred_y = exponential(x, *exp_popt)\n",
    "    log_pred_y = logarithmic(x, *log_popt)\n",
    "    metrics_per_gene[str(gene)] = {\n",
    "        \"kendall_sigm\": kendalltau(y, sigm_pred_y).correlation,\n",
    "        \"kendall_exp\": kendalltau(y, exp_pred_y).correlation,\n",
    "        \"kendall_log\": kendalltau(y, log_pred_y).correlation,\n",
    "        \"mse_sigm\": mean_squared_error(y, sigm_pred_y),\n",
    "        \"mse_exp\": mean_squared_error(y, exp_pred_y),\n",
    "        \"mse_log\": mean_squared_error(y, log_pred_y),\n",
    "    }\n",
    "\n",
    "    # Saving params for sigm, as the best fitting\n",
    "    sigm_params[gene] = sigm_popt\n",
    "\n",
    "    # Limits\n",
    "    plt.xlabel(None)\n",
    "    plt.ylabel(None)\n",
    "    plt.xticks(ticks=list(range(0, 141, 20)))\n",
    "    plt.ylim(-0.1, 1.2)\n",
    "    #     plt.yticks(ticks=np.linspace(0, 1, 11))\n",
    "\n",
    "    # Labelling\n",
    "    plt.title(f\"cgre{gene if gene != 'cgre' else ''}\", fontsize=16)\n",
    "    plt.legend(loc=\"upper right\", frameon=False, fontsize=10, labelspacing=0.2)\n",
    "\n",
    "    i += 1\n",
    "\n",
    "\n",
    "fig.legend(\n",
    "    handles=[sigm_line[0], exp_line[0], log_line[0]],\n",
    "    labels=[\"$sigmoid$\", \"$exp$\", \"$log$\"],\n",
    "    bbox_to_anchor=(0.867, 0.175),\n",
    "    borderaxespad=0,\n",
    "    fontsize=14,\n",
    "    frameon=False,\n",
    ")\n",
    "fig.supxlabel(\"Cycle\", fontsize=18)\n",
    "fig.supylabel(\"Normalized fluorescence\", fontsize=18)\n",
    "\n",
    "plt.tight_layout()\n",
    "plt.savefig(Path(\".\", \"fl_curve_fitting.png\"))"
   ]
  },
  {
   "cell_type": "markdown",
   "id": "dedf5779",
   "metadata": {},
   "source": [
    "Making cycle into time:"
   ]
  },
  {
   "cell_type": "code",
   "execution_count": null,
   "id": "ad56fe29",
   "metadata": {},
   "outputs": [],
   "source": [
    "spectra_fl[\"time\"] = spectra_fl[\"cycle\"] * 25 / 60"
   ]
  },
  {
   "cell_type": "code",
   "execution_count": null,
   "id": "c6aa49b1",
   "metadata": {},
   "outputs": [],
   "source": [
    "fig = plt.figure(figsize=[9, 15], dpi=200)\n",
    "i = 1\n",
    "metrics_per_gene = {}\n",
    "sigm_params = {}\n",
    "\n",
    "for gene in (\n",
    "    \"cgre\",\n",
    "    1338,\n",
    "    132,\n",
    "    9708,\n",
    "    4111,\n",
    "    2880,\n",
    "    3224,\n",
    "    575,\n",
    "    900,\n",
    "    83,\n",
    "    626,\n",
    "    121,\n",
    "    985,\n",
    "    13,\n",
    "    911,\n",
    "    567,\n",
    "    1414,\n",
    "):\n",
    "    plot = plt.subplot(6, 3, i)\n",
    "\n",
    "    fl_urea_peak = spectra_fl[\n",
    "        (spectra_fl.treatment == \"urea\")\n",
    "        & (spectra_fl.peak == True)\n",
    "        & (spectra_fl.time <= 60)\n",
    "        & (spectra_fl.gene == str(gene))\n",
    "    ]\n",
    "    peak_wv = np.unique(fl_urea_peak[\"wavelength\"])[0]\n",
    "\n",
    "    sns.lineplot(\n",
    "        data=fl_urea_peak,\n",
    "        x=\"time\",\n",
    "        y=\"signal_normalized\",\n",
    "        ci=\"sd\",\n",
    "        label=f\"Fluorescence\\nat {peak_wv} $nm$\",\n",
    "        color=sns.color_palette(\"mako\", n_colors=4)[0],\n",
    "    )\n",
    "\n",
    "    mean_abs_urea = fl_urea_peak.groupby(\"time\", as_index=False).mean()\n",
    "    x = mean_abs_urea.time + 1\n",
    "    y = mean_abs_urea.signal_normalized\n",
    "\n",
    "    # Sigmoid\n",
    "    # Initial params\n",
    "    sigm_p0 = [max(y), np.median(x), 1, min(y)]\n",
    "    # Fitting\n",
    "    sigm_popt, sigm_pcov = curve_fit(sigmoid, x, y, sigm_p0, method=\"lm\", maxfev=10000)\n",
    "\n",
    "    sigm_x = np.linspace(1, 60, 1000)\n",
    "    sigm_y = sigmoid(sigm_x, *sigm_popt)\n",
    "    sigm_line = plt.plot(\n",
    "        sigm_x,\n",
    "        sigm_y,\n",
    "        #                          label='$sigmoid$',\n",
    "        c=sns.color_palette(\"mako\", n_colors=4)[1],\n",
    "    )\n",
    "\n",
    "    # Exponential\n",
    "    # Initial params\n",
    "    exp_p0 = [np.max(y), -1]\n",
    "    # Fitting\n",
    "    exp_popt, exp_pcov = curve_fit(exponential, x, y, exp_p0, method=\"lm\")\n",
    "    exp_x = np.linspace(1, 60, 1000)\n",
    "    exp_y = exponential(exp_x, *exp_popt)\n",
    "    exp_line = plt.plot(\n",
    "        exp_x,\n",
    "        exp_y,\n",
    "        #                         label='$exp$',\n",
    "        c=sns.color_palette(\"mako\", n_colors=4)[2],\n",
    "    )\n",
    "\n",
    "    # Logarithmic\n",
    "    # Initial params\n",
    "    log_p0 = [1, 1, 0]\n",
    "    # Fitting\n",
    "    log_popt, log_pcov = curve_fit(logarithmic, x, y, log_p0, method=\"lm\", maxfev=10000)\n",
    "\n",
    "    log_x = np.linspace(1, 60, 1000)\n",
    "    log_y = logarithmic(log_x, *log_popt)\n",
    "    log_line = plt.plot(\n",
    "        log_x,\n",
    "        log_y,\n",
    "        #                         label='$log$',\n",
    "        c=sns.color_palette(\"mako\", n_colors=4)[3],\n",
    "    )\n",
    "\n",
    "    # Non-parametric correlation coeffecient (no presumptions about data)\n",
    "    sigm_pred_y = sigmoid(x, *sigm_popt)\n",
    "    exp_pred_y = exponential(x, *exp_popt)\n",
    "    log_pred_y = logarithmic(x, *log_popt)\n",
    "    metrics_per_gene[gene] = {\n",
    "        \"kendall_sigm\": kendalltau(y, sigm_pred_y).correlation,\n",
    "        \"kendall_exp\": kendalltau(y, exp_pred_y).correlation,\n",
    "        \"kendall_log\": kendalltau(y, log_pred_y).correlation,\n",
    "        \"mse_sigm\": mean_squared_error(y, sigm_pred_y),\n",
    "        \"mse_exp\": mean_squared_error(y, exp_pred_y),\n",
    "        \"mse_log\": mean_squared_error(y, log_pred_y),\n",
    "    }\n",
    "\n",
    "    # Saving params for sigm, as the best fitting\n",
    "    sigm_params[gene] = sigm_popt\n",
    "\n",
    "    # Limits\n",
    "    plt.xlabel(None)\n",
    "    plt.ylabel(None)\n",
    "    plt.xticks(ticks=list(range(0, 61, 15)))\n",
    "    plt.ylim(-0.1, 1.2)\n",
    "\n",
    "    # Labelling\n",
    "    plt.title(f\"cgre{gene if gene != 'cgre' else ''}\", fontsize=16)\n",
    "    plt.legend(loc=\"upper right\", frameon=False, fontsize=10, labelspacing=0.2)\n",
    "\n",
    "    i += 1\n",
    "\n",
    "\n",
    "fig.legend(\n",
    "    handles=[sigm_line[0], exp_line[0], log_line[0]],\n",
    "    labels=[\"$sigmoid$\", \"$exp$\", \"$log$\"],\n",
    "    bbox_to_anchor=(0.867, 0.175),\n",
    "    borderaxespad=0,\n",
    "    fontsize=14,\n",
    "    frameon=False,\n",
    ")\n",
    "fig.supxlabel(\"Time [h]\", fontsize=18)\n",
    "fig.supylabel(\"Normalized fluorescence\", fontsize=18)\n",
    "\n",
    "plt.tight_layout()\n",
    "plt.savefig(Path(\".\", \"fl_curve_fitting_time.png\"))"
   ]
  },
  {
   "cell_type": "code",
   "execution_count": null,
   "id": "abbe8f09",
   "metadata": {},
   "outputs": [],
   "source": [
    "pd.DataFrame(metrics_per_gene).T"
   ]
  },
  {
   "cell_type": "markdown",
   "id": "1d95d260",
   "metadata": {},
   "source": [
    "## Sigmoid best fitting -> Inverse"
   ]
  },
  {
   "cell_type": "markdown",
   "id": "f95429f4",
   "metadata": {},
   "source": [
    "Inverse of the sigmoid function:\n",
    "$$\n",
    "    y = \\frac{L}{  (1 + e^{-k \\cdot (x-x_0)})} + b\n",
    "$$"
   ]
  },
  {
   "cell_type": "markdown",
   "id": "da5c5db3",
   "metadata": {},
   "source": [
    "$$\n",
    "(y - b) = \\frac{L}{  (1 + e^{-k \\cdot (x-x_0)})} \\\\\n",
    " (1 + e^{-k \\cdot (x-x_0)}) = \\frac{L}{ (y - b) } \\\\\n",
    "  e^{-k \\cdot (x-x_0)} = \\frac{L}{ (y - b) } - 1 \\\\\n",
    "  -k \\cdot (x-x_0) = ln(\\frac{L}{ (y - b) } - 1) \\\\\n",
    "  x = - \\frac{ln(\\frac{L}{ (y - b) } - 1)}{k} + x_0 \\\\\n",
    "$$"
   ]
  },
  {
   "cell_type": "code",
   "execution_count": null,
   "id": "90cf8c0d",
   "metadata": {},
   "outputs": [],
   "source": [
    "half_ur_fl = {}\n",
    "for gene, sigm_popt in sigm_params.items():\n",
    "    fl_urea_peak = (\n",
    "        spectra_fl[\n",
    "            (spectra_fl.treatment == \"urea\")\n",
    "            & (spectra_fl.peak == True)\n",
    "            & (spectra_abs.time <= 60)\n",
    "            & (spectra_fl.gene == str(gene))\n",
    "        ]\n",
    "        .groupby(\"time\", as_index=False)\n",
    "        .mean()\n",
    "    )\n",
    "    half_ur_fl[str(gene)] = inverse_sigmoid(0.5, *sigm_popt)"
   ]
  },
  {
   "cell_type": "code",
   "execution_count": null,
   "id": "70595652",
   "metadata": {},
   "outputs": [],
   "source": [
    "half_ur_fl"
   ]
  },
  {
   "cell_type": "code",
   "execution_count": null,
   "id": "d6667ff6",
   "metadata": {},
   "outputs": [],
   "source": [
    "del half_ur_fl[\"cgre\"]"
   ]
  },
  {
   "cell_type": "markdown",
   "id": "c3ed02c8",
   "metadata": {},
   "source": [
    "## Metrics"
   ]
  },
  {
   "cell_type": "markdown",
   "id": "a7a6f2af",
   "metadata": {},
   "source": [
    "### Correlation between fluorescence and absorbance for the same methods"
   ]
  },
  {
   "cell_type": "markdown",
   "id": "c5f00de4",
   "metadata": {},
   "source": [
    "#### Slope:"
   ]
  },
  {
   "cell_type": "code",
   "execution_count": null,
   "id": "c2f27a2f",
   "metadata": {},
   "outputs": [],
   "source": [
    "df_slopes = pd.DataFrame(\n",
    "    {\"abs\": pd.Series(abs_slope_per_gene), \"fl\": pd.Series(fl_slope_per_gene)}\n",
    ")"
   ]
  },
  {
   "cell_type": "code",
   "execution_count": null,
   "id": "8439d262",
   "metadata": {},
   "outputs": [],
   "source": [
    "df_slopes.corr()"
   ]
  },
  {
   "cell_type": "markdown",
   "id": "ab3b6eba",
   "metadata": {},
   "source": [
    "#### 1/2:"
   ]
  },
  {
   "cell_type": "code",
   "execution_count": null,
   "id": "c5ecb661",
   "metadata": {},
   "outputs": [],
   "source": [
    "df_halves = pd.DataFrame(\n",
    "    {\"abs\": pd.Series(abs_gene_half_2_cycle), \"fl\": pd.Series(fl_gene_half_2_cycle)}\n",
    ")"
   ]
  },
  {
   "cell_type": "code",
   "execution_count": null,
   "id": "74d617a5",
   "metadata": {},
   "outputs": [],
   "source": [
    "df_halves.corr()"
   ]
  },
  {
   "cell_type": "markdown",
   "id": "57dcd337",
   "metadata": {},
   "source": [
    "#### Curve fitting:"
   ]
  },
  {
   "cell_type": "code",
   "execution_count": null,
   "id": "c84ab8cf",
   "metadata": {},
   "outputs": [],
   "source": [
    "df_curves = pd.DataFrame({\"abs\": pd.Series(half_ur_abs), \"fl\": pd.Series(half_ur_fl)})"
   ]
  },
  {
   "cell_type": "code",
   "execution_count": null,
   "id": "ed503789",
   "metadata": {},
   "outputs": [],
   "source": [
    "df_curves.corr()"
   ]
  },
  {
   "cell_type": "markdown",
   "id": "bd700070",
   "metadata": {},
   "source": [
    "### Correlationn between metrics"
   ]
  },
  {
   "cell_type": "markdown",
   "id": "5efa9fdd",
   "metadata": {},
   "source": [
    "#### Slope + 1/2"
   ]
  },
  {
   "cell_type": "code",
   "execution_count": null,
   "id": "9e93c4fd",
   "metadata": {
    "scrolled": true
   },
   "outputs": [],
   "source": [
    "df_slopes[\"abs\"].corr(df_halves[\"abs\"])"
   ]
  },
  {
   "cell_type": "code",
   "execution_count": null,
   "id": "d0245c47",
   "metadata": {},
   "outputs": [],
   "source": [
    "df_slopes[\"fl\"].corr(df_halves[\"fl\"])"
   ]
  },
  {
   "cell_type": "markdown",
   "id": "b326ab19",
   "metadata": {},
   "source": [
    "#### Slope + curve fitting"
   ]
  },
  {
   "cell_type": "code",
   "execution_count": null,
   "id": "e1e720fd",
   "metadata": {},
   "outputs": [],
   "source": [
    "df_slopes[\"abs\"].corr(df_curves[\"abs\"])"
   ]
  },
  {
   "cell_type": "code",
   "execution_count": null,
   "id": "df3c2696",
   "metadata": {},
   "outputs": [],
   "source": [
    "df_slopes[\"fl\"].corr(df_curves[\"fl\"])"
   ]
  },
  {
   "cell_type": "markdown",
   "id": "e5f8378f",
   "metadata": {},
   "source": [
    "#### 1/2 + curve fitting"
   ]
  },
  {
   "cell_type": "code",
   "execution_count": null,
   "id": "ff86dea8",
   "metadata": {},
   "outputs": [],
   "source": [
    "df_halves[\"abs\"].corr(df_curves[\"abs\"])"
   ]
  },
  {
   "cell_type": "code",
   "execution_count": null,
   "id": "f7c61e0c",
   "metadata": {},
   "outputs": [],
   "source": [
    "df_halves[\"fl\"].corr(df_curves[\"fl\"])"
   ]
  },
  {
   "cell_type": "markdown",
   "id": "70e03d03",
   "metadata": {},
   "source": [
    "## Correlation with the mutational robustness"
   ]
  },
  {
   "cell_type": "code",
   "execution_count": null,
   "id": "0a94af76",
   "metadata": {},
   "outputs": [],
   "source": [
    "half_mut_rob_per_gene = {'cgreGFP': 2.3598224708239237,\n",
    " 2880: 2.0475472322138573,\n",
    " 575: 1.648929743078233,\n",
    " 83: 0.4876710628582579,\n",
    " 121: 2.087983470121052,\n",
    " 13: 1.7655853131041812,\n",
    " 567: 0.38997176295167435,\n",
    " 3224: 1.364926200088591,\n",
    " 900: 1.6385128907623048,\n",
    " 626: 1.4664978833021196,\n",
    " 985: 1.8639110762878979,\n",
    " 911: 2.1317630470636817,\n",
    " 1414: 4.7128750665062,\n",
    " 1338: 0.9603722537683815,\n",
    " 132: 3.2927772016988577,\n",
    " 9708: 3.077040183325697,\n",
    " 4111: 1.072414674710171}\n",
    "half_mut_rob_per_gene = {\n",
    "    str(key): value for key, value in half_mut_rob_per_gene.items()\n",
    "}\n",
    "df_half_mut_rob = pd.DataFrame(\n",
    "    half_mut_rob_per_gene, index=[\"half_n_aamut\"]\n",
    ").T.sort_index()"
   ]
  },
  {
   "cell_type": "code",
   "execution_count": null,
   "id": "92e81ef8",
   "metadata": {},
   "outputs": [],
   "source": [
    "df_slopes_without_wt = df_slopes.loc[df_slopes.index != \"cgre\"].sort_index()\n",
    "df_halves_without_wt = df_halves.loc[df_halves.index != \"cgre\"].sort_index()\n",
    "df_curves_without_wt = df_curves.loc[df_curves.index != \"cgre\"].sort_index()"
   ]
  },
  {
   "cell_type": "code",
   "execution_count": null,
   "id": "b70a60a5-cd71-451a-a927-69e880a4de9d",
   "metadata": {},
   "outputs": [],
   "source": [
    "from scipy.stats import pearsonr"
   ]
  },
  {
   "cell_type": "markdown",
   "id": "3c6c6ab0",
   "metadata": {},
   "source": [
    "### Slopes"
   ]
  },
  {
   "cell_type": "code",
   "execution_count": null,
   "id": "f87b68af",
   "metadata": {},
   "outputs": [],
   "source": [
    "df_slopes_without_wt[\"abs\"].corr(df_half_mut_rob[\"half_n_aamut\"])"
   ]
  },
  {
   "cell_type": "code",
   "execution_count": null,
   "id": "2322dc2f-a637-44c4-8867-13ff386af763",
   "metadata": {},
   "outputs": [],
   "source": [
    "common_ids = np.intersect1d(df_slopes_without_wt[\"abs\"].index, df_half_mut_rob[\"half_n_aamut\"].index)\n",
    "pearsonr(df_slopes_without_wt[\"abs\"][common_ids], df_half_mut_rob[\"half_n_aamut\"][common_ids])"
   ]
  },
  {
   "cell_type": "code",
   "execution_count": null,
   "id": "97c90583",
   "metadata": {},
   "outputs": [],
   "source": [
    "df_slopes_without_wt[\"fl\"].corr(df_half_mut_rob[\"half_n_aamut\"])"
   ]
  },
  {
   "cell_type": "code",
   "execution_count": null,
   "id": "d60f2897-d987-420e-bbba-f97347ef942c",
   "metadata": {},
   "outputs": [],
   "source": [
    "common_ids = np.intersect1d(df_slopes_without_wt[\"fl\"].index, df_half_mut_rob[\"half_n_aamut\"].index)\n",
    "pearsonr(df_slopes_without_wt[\"fl\"][common_ids], df_half_mut_rob[\"half_n_aamut\"][common_ids])"
   ]
  },
  {
   "cell_type": "markdown",
   "id": "13bcf509",
   "metadata": {},
   "source": [
    "### 1/2"
   ]
  },
  {
   "cell_type": "code",
   "execution_count": null,
   "id": "4bc07485",
   "metadata": {},
   "outputs": [],
   "source": [
    "df_halves_without_wt[\"abs\"].corr(df_half_mut_rob[\"half_n_aamut\"])"
   ]
  },
  {
   "cell_type": "code",
   "execution_count": null,
   "id": "4a819195-55f5-4e15-8301-126d6f6c7232",
   "metadata": {},
   "outputs": [],
   "source": [
    "common_ids = np.intersect1d(df_halves_without_wt[\"abs\"].index, df_half_mut_rob[\"half_n_aamut\"].index)\n",
    "pearsonr(df_halves_without_wt[\"abs\"][common_ids], df_half_mut_rob[\"half_n_aamut\"][common_ids])"
   ]
  },
  {
   "cell_type": "code",
   "execution_count": null,
   "id": "5a883291",
   "metadata": {},
   "outputs": [],
   "source": [
    "df_halves_without_wt[\"fl\"].corr(df_half_mut_rob[\"half_n_aamut\"])"
   ]
  },
  {
   "cell_type": "code",
   "execution_count": null,
   "id": "e9cafe50-93de-4a02-904b-fb26aec07131",
   "metadata": {},
   "outputs": [],
   "source": [
    "common_ids = np.intersect1d(df_halves_without_wt[\"fl\"].index, df_half_mut_rob[\"half_n_aamut\"].index)\n",
    "pearsonr(df_halves_without_wt[\"fl\"][common_ids], df_half_mut_rob[\"half_n_aamut\"][common_ids])"
   ]
  },
  {
   "cell_type": "markdown",
   "id": "d86e35e0",
   "metadata": {},
   "source": [
    "### Curve fitting"
   ]
  },
  {
   "cell_type": "code",
   "execution_count": null,
   "id": "4928fc71",
   "metadata": {},
   "outputs": [],
   "source": [
    "df_curves_without_wt[\"abs\"].corr(df_half_mut_rob[\"half_n_aamut\"])"
   ]
  },
  {
   "cell_type": "code",
   "execution_count": null,
   "id": "e91a687b-2b15-4bac-9dba-358979fd6eba",
   "metadata": {},
   "outputs": [],
   "source": [
    "common_ids = np.intersect1d(df_curves_without_wt[\"abs\"].index, df_half_mut_rob[\"half_n_aamut\"].index)\n",
    "pearsonr(df_curves_without_wt[\"abs\"][common_ids], df_half_mut_rob[\"half_n_aamut\"][common_ids])"
   ]
  },
  {
   "cell_type": "code",
   "execution_count": null,
   "id": "838bcdfd",
   "metadata": {},
   "outputs": [],
   "source": [
    "df_curves_without_wt[\"fl\"].corr(df_half_mut_rob[\"half_n_aamut\"])"
   ]
  },
  {
   "cell_type": "code",
   "execution_count": null,
   "id": "02d40a0e-bbd7-4bf2-8075-730ee231a787",
   "metadata": {},
   "outputs": [],
   "source": [
    "common_ids = np.intersect1d(df_curves_without_wt[\"fl\"].index, df_half_mut_rob[\"half_n_aamut\"].index)\n",
    "pearsonr(df_curves_without_wt[\"fl\"][common_ids], df_half_mut_rob[\"half_n_aamut\"][common_ids])"
   ]
  },
  {
   "cell_type": "code",
   "execution_count": null,
   "id": "c404df51-2e77-43b0-84ae-0e05b47f9cc0",
   "metadata": {},
   "outputs": [],
   "source": []
  },
  {
   "cell_type": "code",
   "execution_count": null,
   "id": "7cda98d1-76af-4f4e-b94a-72837d433c75",
   "metadata": {},
   "outputs": [],
   "source": [
    "corr_results = {\n",
    "                \"Abs r\": [0.37, 0.54, 0.37],\n",
    "                \"Abs p-value\": [0.16, 0.03, 0.16],\n",
    "                \"Fl r\": [0.45, 0.29, 0.29],\n",
    "                \"Fl p-value\": [0.08,  0.28, 0.28]\n",
    "                }\n",
    "\n",
    "corr_results = pd.DataFrame(corr_results, index=[\"Slopes\", \"Halves\", \"Curves\"])\n",
    "corr_results.to_csv(\"corr_results.csv\")"
   ]
  },
  {
   "cell_type": "code",
   "execution_count": null,
   "id": "7f9cd983-95ef-4793-a980-9a5e6c94ac87",
   "metadata": {},
   "outputs": [],
   "source": [
    "corr_results"
   ]
  },
  {
   "cell_type": "code",
   "execution_count": null,
   "id": "93d748b8-51b0-4c9c-85ea-4370d252d95e",
   "metadata": {},
   "outputs": [],
   "source": []
  }
 ],
 "metadata": {
  "kernelspec": {
   "display_name": "Python 3 (ipykernel)",
   "language": "python",
   "name": "python3"
  },
  "language_info": {
   "codemirror_mode": {
    "name": "ipython",
    "version": 3
   },
   "file_extension": ".py",
   "mimetype": "text/x-python",
   "name": "python",
   "nbconvert_exporter": "python",
   "pygments_lexer": "ipython3",
   "version": "3.9.7"
  }
 },
 "nbformat": 4,
 "nbformat_minor": 5
}
