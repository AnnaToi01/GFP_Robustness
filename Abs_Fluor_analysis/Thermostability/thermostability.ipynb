{
 "cells": [
  {
   "cell_type": "markdown",
   "id": "a1bc4118",
   "metadata": {},
   "source": [
    "# Thermostability"
   ]
  },
  {
   "cell_type": "markdown",
   "id": "488b4027",
   "metadata": {},
   "source": [
    "Importing necessary libraries:"
   ]
  },
  {
   "cell_type": "code",
   "execution_count": null,
   "id": "26cb7907",
   "metadata": {},
   "outputs": [],
   "source": [
    "import matplotlib.pyplot as plt\n",
    "import numpy as np\n",
    "import pandas as pd\n",
    "from pathlib import Path\n",
    "from scipy.stats import linregress\n",
    "import seaborn as sns\n",
    "from typing import List, Dict, Tuple\n",
    "\n",
    "from utils import *\n",
    "\n",
    "%matplotlib inline"
   ]
  },
  {
   "cell_type": "markdown",
   "id": "3dd71711",
   "metadata": {},
   "source": [
    "## Reading the files"
   ]
  },
  {
   "cell_type": "markdown",
   "id": "d9f62eb4",
   "metadata": {},
   "source": [
    "Reading the melting curves:"
   ]
  },
  {
   "cell_type": "code",
   "execution_count": null,
   "id": "a3d0179c",
   "metadata": {},
   "outputs": [],
   "source": [
    "# PBS\n",
    "pbs_fl = pd.read_csv(\n",
    "    \"data/220627_cgre_50aq-deg_pbs_fluocurves2.txt\",\n",
    "    sep=\"\\t\",\n",
    "    skiprows=1,\n",
    "    low_memory=False,\n",
    ")\n",
    "pbs_fl = filter_extra_fl(subtract_blanks_fl(rename_columns_fl(pbs_fl)))\n",
    "\n",
    "# Urea 1M\n",
    "urea1M_fl = pd.read_csv(\n",
    "    \"data/220627_cgre_50aq-deg_urea1M_fluocurves2.txt\",\n",
    "    sep=\"\\t\",\n",
    "    skiprows=1,\n",
    "    low_memory=False,\n",
    ")\n",
    "urea1M_fl = filter_extra_fl(subtract_blanks_fl(rename_columns_fl(urea1M_fl)))\n",
    "\n",
    "# Urea 2M\n",
    "urea2M_fl = pd.read_csv(\n",
    "    \"data/220628_cgre_50aq-deg_urea2M_fluocurves2.txt\",\n",
    "    sep=\"\\t\",\n",
    "    skiprows=1,\n",
    "    low_memory=False,\n",
    ")\n",
    "urea2M_fl = filter_extra_fl(subtract_blanks_fl(rename_columns_fl(urea2M_fl)))\n",
    "\n",
    "# Urea 3M\n",
    "urea3M_fl = pd.read_csv(\n",
    "    \"data/220628_cgre_50aq-deg_urea3M_fluocurves.txt\",\n",
    "    sep=\"\\t\",\n",
    "    skiprows=1,\n",
    "    low_memory=False,\n",
    ")\n",
    "urea3M_fl = filter_extra_fl(subtract_blanks_fl(rename_columns_fl(urea3M_fl)))\n",
    "\n",
    "# Urea 4M\n",
    "urea4M_fl = pd.read_csv(\n",
    "    \"data/220630_melting_cgre_50acq-deg_urea4M_fluocurves.txt\",\n",
    "    sep=\"\\t\",\n",
    "    skiprows=1,\n",
    "    low_memory=False,\n",
    ")\n",
    "urea4M_fl = filter_extra_fl(subtract_blanks_fl(rename_columns_fl(urea4M_fl)))\n",
    "\n",
    "# Urea 5M\n",
    "urea5M_fl = pd.read_csv(\n",
    "    \"data/220701_melting_cgre_50acq-deg_urea5M_fluocurves.txt\",\n",
    "    sep=\"\\t\",\n",
    "    skiprows=1,\n",
    "    low_memory=False,\n",
    ")\n",
    "urea5M_fl = filter_extra_fl(subtract_blanks_fl(rename_columns_fl(urea5M_fl)))\n",
    "\n",
    "# Urea 6M\n",
    "urea6M_fl = pd.read_csv(\n",
    "    \"data/220701_melting_cgre_50acq-deg_urea6M_fluorcurves.txt\",\n",
    "    sep=\"\\t\",\n",
    "    skiprows=1,\n",
    "    low_memory=False,\n",
    ")\n",
    "urea6M_fl = filter_extra_fl(subtract_blanks_fl(rename_columns_fl(urea6M_fl)))\n",
    "\n",
    "# Urea 7M\n",
    "urea7M_fl = pd.read_csv(\n",
    "    \"data/220704_cgre_50aq-deg_urea7M_fluocurves.txt\",\n",
    "    sep=\"\\t\",\n",
    "    skiprows=1,\n",
    "    low_memory=False,\n",
    ")\n",
    "urea7M_fl = filter_extra_fl(subtract_blanks_fl(rename_columns_fl(urea7M_fl)))\n",
    "\n",
    "# Urea 8M\n",
    "urea8M_fl = pd.read_csv(\n",
    "    \"data/220704_cgre_50aq-deg_urea8M_fluocurves.txt\",\n",
    "    sep=\"\\t\",\n",
    "    skiprows=1,\n",
    "    low_memory=False,\n",
    ")\n",
    "urea8M_fl = filter_extra_fl(subtract_blanks_fl(rename_columns_fl(urea8M_fl)))"
   ]
  },
  {
   "cell_type": "markdown",
   "id": "15f35a11",
   "metadata": {},
   "source": [
    "Reading the derivative of melting curves, $\\frac{dF}{dT}$"
   ]
  },
  {
   "cell_type": "code",
   "execution_count": null,
   "id": "7dea7886",
   "metadata": {},
   "outputs": [],
   "source": [
    "# PBS\n",
    "pbs_df = pd.read_csv(\"data/220627_cgre_50aq-deg_pbs_meltingcurves.txt\", sep=\"\\t\")\n",
    "pbs_df = reformat_df(filter_extra_df(subtract_blanks_df(pbs_df)))\n",
    "\n",
    "# Urea 1M\n",
    "urea1M_df = pd.read_csv(\"data/220627_cgre_50aq-deg_urea1M_meltingcurves.txt\", sep=\"\\t\")\n",
    "urea1M_df = reformat_df(filter_extra_df(subtract_blanks_df(urea1M_df)))\n",
    "\n",
    "# Urea 2M\n",
    "urea2M_df = pd.read_csv(\"data/220628_cgre_50aq-deg_urea2M_meltingcurves.txt\", sep=\"\\t\")\n",
    "urea2M_df = reformat_df(filter_extra_df(subtract_blanks_df(urea2M_df)))\n",
    "\n",
    "# Urea 3M\n",
    "urea3M_df = pd.read_csv(\"data/220628_cgre_50aq-deg_urea3M_meltingcurves.txt\", sep=\"\\t\")\n",
    "urea3M_df = reformat_df(filter_extra_df(subtract_blanks_df(urea3M_df)))\n",
    "\n",
    "# Urea 4M\n",
    "urea4M_df = pd.read_csv(\n",
    "    \"data/220630_melting_cgre_50acq-deg_urea4M_meltingcurves.txt\", sep=\"\\t\"\n",
    ")\n",
    "urea4M_df = reformat_df(filter_extra_df(subtract_blanks_df(urea4M_df)))\n",
    "\n",
    "# Urea 5M\n",
    "urea5M_df = pd.read_csv(\n",
    "    \"data/220701_melting_cgre_50acq-deg_urea5M_meltingcurves.txt\", sep=\"\\t\"\n",
    ")\n",
    "urea5M_df = reformat_df(filter_extra_df(subtract_blanks_df(urea5M_df)))\n",
    "\n",
    "# Urea 6M\n",
    "urea6M_df = pd.read_csv(\"data/220701_cgre_50aq-deg_urea6M_meltingcurves.txt\", sep=\"\\t\")\n",
    "urea6M_df = reformat_df(filter_extra_df(subtract_blanks_df(urea6M_df)))\n",
    "\n",
    "# Urea 7M\n",
    "urea7M_df = pd.read_csv(\"data/220704_cgre_50aq-deg_urea7M_meltingcurves.txt\", sep=\"\\t\")\n",
    "urea7M_df = reformat_df(filter_extra_df(subtract_blanks_df(urea7M_df)))\n",
    "\n",
    "# Urea 8M\n",
    "urea8M_df = pd.read_csv(\"data/220704_cgre_50aq-deg_urea8M_meltingcurves.txt\", sep=\"\\t\")\n",
    "urea8M_df = reformat_df(filter_extra_df(subtract_blanks_df(urea8M_df)))"
   ]
  },
  {
   "cell_type": "markdown",
   "id": "c8984137",
   "metadata": {},
   "source": [
    "## Plotting the curves"
   ]
  },
  {
   "cell_type": "markdown",
   "id": "c7d532fa",
   "metadata": {},
   "source": [
    "All melting curves and derivatives of them:"
   ]
  },
  {
   "cell_type": "markdown",
   "id": "7232e9f8",
   "metadata": {},
   "source": [
    "PBS"
   ]
  },
  {
   "cell_type": "code",
   "execution_count": null,
   "id": "dee385a3",
   "metadata": {},
   "outputs": [],
   "source": [
    "plot_curves(pbs_fl, \"Fluorescence\", \"PBS\")\n",
    "plot_curves(pbs_df, \"dF/dT\", \"PBS_dF\")"
   ]
  },
  {
   "cell_type": "markdown",
   "id": "2168e69e",
   "metadata": {},
   "source": [
    "Urea 1M:"
   ]
  },
  {
   "cell_type": "code",
   "execution_count": null,
   "id": "22cd1eb0",
   "metadata": {},
   "outputs": [],
   "source": [
    "plot_curves(urea1M_fl, \"Fluorescence\", \"Urea_1M\")\n",
    "plot_curves(urea1M_df, \"dF/dT\", \"Urea_1M_dF\")"
   ]
  },
  {
   "cell_type": "markdown",
   "id": "5d4f0bbf",
   "metadata": {},
   "source": [
    "Urea 2M:"
   ]
  },
  {
   "cell_type": "code",
   "execution_count": null,
   "id": "21ccf218",
   "metadata": {},
   "outputs": [],
   "source": [
    "plot_curves(urea2M_fl, \"Fluorescence\", \"Urea_2M\")\n",
    "plot_curves(urea2M_df, \"dF/dT\", \"Urea_2M_dF\")"
   ]
  },
  {
   "cell_type": "markdown",
   "id": "f0deaed3",
   "metadata": {},
   "source": [
    "Urea 3M:"
   ]
  },
  {
   "cell_type": "code",
   "execution_count": null,
   "id": "73bf9620",
   "metadata": {},
   "outputs": [],
   "source": [
    "plot_curves(urea3M_fl, \"Fluorescence\", \"Urea_2M\")\n",
    "plot_curves(urea3M_df, \"dF/dT\", \"Urea_2M_dF\")"
   ]
  },
  {
   "cell_type": "markdown",
   "id": "5a140a7a",
   "metadata": {},
   "source": [
    "Urea 4M:"
   ]
  },
  {
   "cell_type": "code",
   "execution_count": null,
   "id": "a8d6cfc4",
   "metadata": {},
   "outputs": [],
   "source": [
    "plot_curves(urea4M_fl, \"Fluorescence\", \"Urea_4M\")\n",
    "plot_curves(urea4M_df, \"dF/dT\", \"Urea_4M_dF\")"
   ]
  },
  {
   "cell_type": "markdown",
   "id": "7dcb60c7",
   "metadata": {},
   "source": [
    "Urea 5M:"
   ]
  },
  {
   "cell_type": "code",
   "execution_count": null,
   "id": "bdc7d91f",
   "metadata": {},
   "outputs": [],
   "source": [
    "plot_curves(urea5M_fl, \"Fluorescence\", \"Urea_5M\")\n",
    "plot_curves(urea5M_df, \"dF/dT\", \"Urea_5M_dF\")"
   ]
  },
  {
   "cell_type": "markdown",
   "id": "c3cdb2f2",
   "metadata": {},
   "source": [
    "Urea 6M:"
   ]
  },
  {
   "cell_type": "code",
   "execution_count": null,
   "id": "156be03d",
   "metadata": {
    "scrolled": true
   },
   "outputs": [],
   "source": [
    "plot_curves(urea6M_fl, \"Fluorescence\", \"Urea_6M\")\n",
    "plot_curves(urea6M_df, \"dF/dT\", \"Urea_6M_dF\")"
   ]
  },
  {
   "cell_type": "markdown",
   "id": "107b7ffa",
   "metadata": {},
   "source": [
    "Urea 7M:"
   ]
  },
  {
   "cell_type": "code",
   "execution_count": null,
   "id": "96c1e82d",
   "metadata": {},
   "outputs": [],
   "source": [
    "plot_curves(urea7M_fl, \"Fluorescence\", \"Urea_7M\")\n",
    "plot_curves(urea7M_df, \"dF/dT\", \"Urea_7M_dF\")"
   ]
  },
  {
   "cell_type": "markdown",
   "id": "0ed0092e",
   "metadata": {},
   "source": [
    "Urea 8M:"
   ]
  },
  {
   "cell_type": "code",
   "execution_count": null,
   "id": "89665843",
   "metadata": {},
   "outputs": [],
   "source": [
    "plot_curves(urea8M_fl, \"Fluorescence\", \"Urea_8M\")\n",
    "plot_curves(urea8M_df, \"dF/dT\", \"Urea_8M_dF\")"
   ]
  },
  {
   "cell_type": "markdown",
   "id": "d453b169",
   "metadata": {},
   "source": [
    "### Plotting curves per gene, separated for each well\n",
    "\n",
    "\n",
    "Here, we check if there are some weird outlier wells. "
   ]
  },
  {
   "cell_type": "markdown",
   "id": "02f0e85b",
   "metadata": {},
   "source": [
    "PBS:"
   ]
  },
  {
   "cell_type": "code",
   "execution_count": null,
   "id": "c2d8b411",
   "metadata": {},
   "outputs": [],
   "source": [
    "plot_curves_per_gene(pbs_fl, \"Fluorescence\", \"PBS\")\n",
    "plot_curves_per_gene(pbs_df, \"dF/dT\", \"PBS_dF\")"
   ]
  },
  {
   "cell_type": "markdown",
   "id": "dd651ccb",
   "metadata": {},
   "source": [
    "Urea 1M:"
   ]
  },
  {
   "cell_type": "code",
   "execution_count": null,
   "id": "55e3d538",
   "metadata": {},
   "outputs": [],
   "source": [
    "plot_curves_per_gene(urea1M_fl, \"Fluorescence\", \"Urea_1M\")\n",
    "plot_curves_per_gene(urea1M_df, \"dF/dT\", \"Urea_1M_dF\")"
   ]
  },
  {
   "cell_type": "markdown",
   "id": "0e793966",
   "metadata": {},
   "source": [
    "Urea 2M:"
   ]
  },
  {
   "cell_type": "code",
   "execution_count": null,
   "id": "9d898928",
   "metadata": {},
   "outputs": [],
   "source": [
    "plot_curves_per_gene(urea2M_fl, \"Fluorescence\", \"Urea_2M\")\n",
    "plot_curves_per_gene(urea2M_df, \"dF/dT\", \"Urea_2M_dF\")"
   ]
  },
  {
   "cell_type": "markdown",
   "id": "1dd3f064",
   "metadata": {},
   "source": [
    "Urea 3M:"
   ]
  },
  {
   "cell_type": "code",
   "execution_count": null,
   "id": "12a9fa05",
   "metadata": {},
   "outputs": [],
   "source": [
    "plot_curves_per_gene(urea3M_fl, \"Fluorescence\", \"Urea_3M\")\n",
    "plot_curves_per_gene(urea3M_df, \"dF/dT\", \"Urea_3M_dF\")"
   ]
  },
  {
   "cell_type": "markdown",
   "id": "9d7723a1",
   "metadata": {},
   "source": [
    "Urea 4M:"
   ]
  },
  {
   "cell_type": "code",
   "execution_count": null,
   "id": "5e6edcae",
   "metadata": {},
   "outputs": [],
   "source": [
    "plot_curves_per_gene(urea4M_fl, \"Fluorescence\", \"Urea_4M\")\n",
    "plot_curves_per_gene(urea4M_df, \"dF/dT\", \"Urea_4M_dF\")"
   ]
  },
  {
   "cell_type": "markdown",
   "id": "44e55ea9",
   "metadata": {},
   "source": [
    "Urea 5M:"
   ]
  },
  {
   "cell_type": "code",
   "execution_count": null,
   "id": "53bdb017",
   "metadata": {},
   "outputs": [],
   "source": [
    "plot_curves_per_gene(urea5M_fl, \"Fluorescence\", \"Urea_5M\")\n",
    "plot_curves_per_gene(urea5M_df, \"dF/dT\", \"Urea_5M_dF\")"
   ]
  },
  {
   "cell_type": "markdown",
   "id": "09726c89",
   "metadata": {},
   "source": [
    "Urea 6M:"
   ]
  },
  {
   "cell_type": "code",
   "execution_count": null,
   "id": "d3d106d6",
   "metadata": {},
   "outputs": [],
   "source": [
    "plot_curves_per_gene(urea6M_fl, \"Fluorescence\", \"Urea_6M\")\n",
    "plot_curves_per_gene(urea6M_df, \"dF/dT\", \"Urea_6M_dF\")"
   ]
  },
  {
   "cell_type": "markdown",
   "id": "0108eaff",
   "metadata": {},
   "source": [
    "Urea 7M:"
   ]
  },
  {
   "cell_type": "code",
   "execution_count": null,
   "id": "117db6f3",
   "metadata": {},
   "outputs": [],
   "source": [
    "plot_curves_per_gene(urea7M_fl, \"Fluorescence\", \"Urea_7M\")\n",
    "plot_curves_per_gene(urea7M_df, \"dF/dT\", \"Urea_7M_dF\")"
   ]
  },
  {
   "cell_type": "markdown",
   "id": "64b403e6",
   "metadata": {},
   "source": [
    "Urea 8M:"
   ]
  },
  {
   "cell_type": "code",
   "execution_count": null,
   "id": "38529105",
   "metadata": {},
   "outputs": [],
   "source": [
    "plot_curves_per_gene(urea8M_fl, \"Fluorescence\", \"Urea_8M\")\n",
    "plot_curves_per_gene(urea8M_df, \"dF/dT\", \"Urea_8M_dF\")"
   ]
  },
  {
   "cell_type": "markdown",
   "id": "3a01ed54",
   "metadata": {},
   "source": [
    "## Wells to exclude:"
   ]
  },
  {
   "cell_type": "markdown",
   "id": "04a12d66",
   "metadata": {},
   "source": [
    "Outliers based on the curves above:"
   ]
  },
  {
   "cell_type": "code",
   "execution_count": null,
   "id": "c7c02994",
   "metadata": {},
   "outputs": [],
   "source": [
    "pbs_exclude = [\"A9\", \"A10\", \"A1\", \"A8\", ]\n",
    "urea1M_exclude = [\"A3\", \"A9\", \"B11\", \"A11\", \"A10\", \"A8\", ] \n",
    "urea2M_exclude = [\"E6\", \"A9\", \"B11\", \"A11\", \"A10\", ]\n",
    "urea3M_exclude = [\"E11\", \"A11\", \"F1\", \"A8\", \"A4\", ]\n",
    "urea4M_exclude = [\"B11\", \"A11\", \"A4\", \"A9\", \"B9\", \"B7\", \"A10\", ] \n",
    "urea5M_exclude = [\"A11\", \"A10\", \"A8\", \"A4\", \"A9\", \"A7\", ]\n",
    "urea6M_exclude = [\"C11\", \"A11\", \"A8\", \"A4\", \"A9\", \"A10\", ]\n",
    "urea7M_exclude = [\"A11\", \"F1\", \"A4\", \"A9\", \"A10\", ] \n",
    "urea8M_exclude = [\"A11\", \"B11\", \"A9\", \"A10\", ]"
   ]
  },
  {
   "cell_type": "code",
   "execution_count": null,
   "id": "3b643374",
   "metadata": {},
   "outputs": [],
   "source": [
    "pbs_fl, pbs_df = exclude_wells(pbs_fl, pbs_df, pbs_exclude)\n",
    "urea1M_fl, urea1M_df = exclude_wells(urea1M_fl, urea1M_df, urea1M_exclude)\n",
    "urea2M_fl, urea2M_df = exclude_wells(urea2M_fl, urea2M_df, urea2M_exclude)\n",
    "urea3M_fl, urea3M_df = exclude_wells(urea3M_fl, urea3M_df, urea3M_exclude)\n",
    "urea4M_fl, urea4M_df = exclude_wells(urea4M_fl, urea4M_df, urea4M_exclude)\n",
    "urea5M_fl, urea5M_df = exclude_wells(urea5M_fl, urea5M_df, urea5M_exclude)\n",
    "urea6M_fl, urea6M_df = exclude_wells(urea6M_fl, urea6M_df, urea6M_exclude)\n",
    "urea7M_fl, urea7M_df = exclude_wells(urea7M_fl, urea7M_df, urea7M_exclude)\n",
    "urea8M_fl, urea8M_df = exclude_wells(urea8M_fl, urea8M_df, urea8M_exclude)"
   ]
  },
  {
   "cell_type": "markdown",
   "id": "dc53f5d0",
   "metadata": {},
   "source": [
    "## Normalizing signals"
   ]
  },
  {
   "cell_type": "code",
   "execution_count": null,
   "id": "c5c9bc0f",
   "metadata": {},
   "outputs": [],
   "source": [
    "# PBS\n",
    "pbs_fl_norm = normalize_signal_per_well(pbs_fl)\n",
    "pbs_df_norm = normalize_signal_per_well(pbs_df)\n",
    "\n",
    "# Urea 1M\n",
    "urea1M_fl_norm = normalize_signal_per_well(urea1M_fl)\n",
    "urea1M_df_norm = normalize_signal_per_well(urea1M_df)\n",
    "\n",
    "# Urea 2M\n",
    "urea2M_fl_norm = normalize_signal_per_well(urea2M_fl)\n",
    "urea2M_df_norm = normalize_signal_per_well(urea2M_df)\n",
    "\n",
    "# Urea 3M\n",
    "urea3M_fl_norm = normalize_signal_per_well(urea3M_fl)\n",
    "urea3M_df_norm = normalize_signal_per_well(urea3M_df)\n",
    "\n",
    "# Urea 4M\n",
    "urea4M_fl_norm = normalize_signal_per_well(urea4M_fl)\n",
    "urea4M_df_norm = normalize_signal_per_well(urea4M_df)\n",
    "\n",
    "# Urea 5M\n",
    "urea5M_fl_norm = normalize_signal_per_well(urea5M_fl)\n",
    "urea5M_df_norm = normalize_signal_per_well(urea5M_df)\n",
    "\n",
    "# Urea 6M\n",
    "urea6M_fl_norm = normalize_signal_per_well(urea6M_fl)\n",
    "urea6M_df_norm = normalize_signal_per_well(urea6M_df)\n",
    "\n",
    "# Urea 7M\n",
    "urea7M_fl_norm = normalize_signal_per_well(urea7M_fl)\n",
    "urea7M_df_norm = normalize_signal_per_well(urea7M_df)\n",
    "\n",
    "# Urea 8M\n",
    "urea8M_fl_norm = normalize_signal_per_well(urea8M_fl)\n",
    "urea8M_df_norm = normalize_signal_per_well(urea8M_df)"
   ]
  },
  {
   "cell_type": "markdown",
   "id": "bb5bb4e1",
   "metadata": {},
   "source": [
    "### Plotting curves as mean of each well:"
   ]
  },
  {
   "cell_type": "markdown",
   "id": "03251ab0",
   "metadata": {},
   "source": [
    "PBS:"
   ]
  },
  {
   "cell_type": "code",
   "execution_count": null,
   "id": "aebb18be",
   "metadata": {},
   "outputs": [],
   "source": [
    "pbs_melting_temperatures = plot_melting_curves_per_gene_mean(pbs_fl, pbs_df, \"PBS\")"
   ]
  },
  {
   "cell_type": "markdown",
   "id": "a4a9dddb",
   "metadata": {},
   "source": [
    "Urea 1M:"
   ]
  },
  {
   "cell_type": "code",
   "execution_count": null,
   "id": "cb623923",
   "metadata": {},
   "outputs": [],
   "source": [
    "urea1M_melting_temperatures = plot_melting_curves_per_gene_mean(urea1M_fl, urea1M_df, \"Urea_1M\")"
   ]
  },
  {
   "cell_type": "markdown",
   "id": "71e57ec3",
   "metadata": {},
   "source": [
    "Urea 2M:"
   ]
  },
  {
   "cell_type": "code",
   "execution_count": null,
   "id": "c001026f",
   "metadata": {
    "scrolled": true
   },
   "outputs": [],
   "source": [
    "urea2M_melting_temperatures = plot_melting_curves_per_gene_mean(urea2M_fl, urea2M_df, \"Urea_2M\")"
   ]
  },
  {
   "cell_type": "markdown",
   "id": "f0d23017",
   "metadata": {},
   "source": [
    "Urea 3M:"
   ]
  },
  {
   "cell_type": "code",
   "execution_count": null,
   "id": "bdca66d8",
   "metadata": {
    "scrolled": true
   },
   "outputs": [],
   "source": [
    "urea3M_melting_temperatures = plot_melting_curves_per_gene_mean(urea3M_fl, urea3M_df, \"Urea_3M\")"
   ]
  },
  {
   "cell_type": "markdown",
   "id": "390fb468",
   "metadata": {},
   "source": [
    "Urea 4M:"
   ]
  },
  {
   "cell_type": "code",
   "execution_count": null,
   "id": "57b5cfdf",
   "metadata": {},
   "outputs": [],
   "source": [
    "urea4M_melting_temperatures = plot_melting_curves_per_gene_mean(urea4M_fl, urea4M_df, \"Urea_4M\")"
   ]
  },
  {
   "cell_type": "markdown",
   "id": "87e298d0",
   "metadata": {},
   "source": [
    "Urea 5M:"
   ]
  },
  {
   "cell_type": "code",
   "execution_count": null,
   "id": "ace522e0",
   "metadata": {
    "scrolled": true
   },
   "outputs": [],
   "source": [
    "urea5M_melting_temperatures = plot_melting_curves_per_gene_mean(urea5M_fl, urea5M_df, \"Urea_5M\")"
   ]
  },
  {
   "cell_type": "markdown",
   "id": "a0d65027",
   "metadata": {},
   "source": [
    "Urea 6M:"
   ]
  },
  {
   "cell_type": "code",
   "execution_count": null,
   "id": "d0438715",
   "metadata": {
    "scrolled": true
   },
   "outputs": [],
   "source": [
    "urea6M_melting_temperatures = plot_melting_curves_per_gene_mean(urea6M_fl, urea6M_df, \"Urea_6M\")"
   ]
  },
  {
   "cell_type": "markdown",
   "id": "05dfef1d",
   "metadata": {},
   "source": [
    "Urea 7M:"
   ]
  },
  {
   "cell_type": "code",
   "execution_count": null,
   "id": "50096f49",
   "metadata": {},
   "outputs": [],
   "source": [
    "urea7M_melting_temperatures = plot_melting_curves_per_gene_mean(urea7M_fl, urea7M_df, \"Urea_7M\")"
   ]
  },
  {
   "cell_type": "markdown",
   "id": "b9145292",
   "metadata": {},
   "source": [
    "Urea 8M:"
   ]
  },
  {
   "cell_type": "code",
   "execution_count": null,
   "id": "65758ac9",
   "metadata": {
    "scrolled": true
   },
   "outputs": [],
   "source": [
    "urea8M_melting_temperatures = plot_melting_curves_per_gene_mean(urea8M_fl, urea8M_df, \"Urea_8M\")"
   ]
  },
  {
   "cell_type": "markdown",
   "id": "9f5797df",
   "metadata": {},
   "source": [
    "#### Normalized"
   ]
  },
  {
   "cell_type": "markdown",
   "id": "43076d17",
   "metadata": {},
   "source": [
    "PBS:"
   ]
  },
  {
   "cell_type": "code",
   "execution_count": null,
   "id": "9327b900",
   "metadata": {},
   "outputs": [],
   "source": [
    "pbs_melting_temperatures = plot_melting_curves_per_gene_mean(pbs_fl_norm, pbs_df_norm, \"PBS_norm\")"
   ]
  },
  {
   "cell_type": "markdown",
   "id": "de20a4db",
   "metadata": {},
   "source": [
    "Urea 1M:"
   ]
  },
  {
   "cell_type": "code",
   "execution_count": null,
   "id": "6f9ecba9",
   "metadata": {},
   "outputs": [],
   "source": [
    "urea1M_melting_temperatures = plot_melting_curves_per_gene_mean(urea1M_fl_norm, urea1M_df_norm, \"Urea_1M_norm\")"
   ]
  },
  {
   "cell_type": "markdown",
   "id": "a80cc6b9",
   "metadata": {},
   "source": [
    "Urea 2M:"
   ]
  },
  {
   "cell_type": "code",
   "execution_count": null,
   "id": "ef36cf2f",
   "metadata": {
    "scrolled": true
   },
   "outputs": [],
   "source": [
    "urea2M_melting_temperatures = plot_melting_curves_per_gene_mean(urea2M_fl_norm, urea2M_df_norm, \"Urea_2M_norm\")"
   ]
  },
  {
   "cell_type": "markdown",
   "id": "de44e711",
   "metadata": {},
   "source": [
    "Urea 3M:"
   ]
  },
  {
   "cell_type": "code",
   "execution_count": null,
   "id": "40d3314c",
   "metadata": {
    "scrolled": true
   },
   "outputs": [],
   "source": [
    "urea3M_melting_temperatures = plot_melting_curves_per_gene_mean(urea3M_fl_norm, urea3M_df_norm, \"Urea_3M_norm\")"
   ]
  },
  {
   "cell_type": "markdown",
   "id": "7514da25",
   "metadata": {},
   "source": [
    "Urea 4M:"
   ]
  },
  {
   "cell_type": "code",
   "execution_count": null,
   "id": "a3adad95",
   "metadata": {},
   "outputs": [],
   "source": [
    "urea4M_melting_temperatures = plot_melting_curves_per_gene_mean(urea4M_fl_norm, urea4M_df_norm, \"Urea_4M_norm\")"
   ]
  },
  {
   "cell_type": "markdown",
   "id": "e964c785",
   "metadata": {},
   "source": [
    "Urea 5M:"
   ]
  },
  {
   "cell_type": "code",
   "execution_count": null,
   "id": "1f8e5bb6",
   "metadata": {
    "scrolled": true
   },
   "outputs": [],
   "source": [
    "urea5M_melting_temperatures = plot_melting_curves_per_gene_mean(urea5M_fl_norm, urea5M_df_norm, \"Urea_5M_norm\")"
   ]
  },
  {
   "cell_type": "markdown",
   "id": "28457e9d",
   "metadata": {},
   "source": [
    "Urea 6M:"
   ]
  },
  {
   "cell_type": "code",
   "execution_count": null,
   "id": "2fa16017",
   "metadata": {
    "scrolled": true
   },
   "outputs": [],
   "source": [
    "urea6M_melting_temperatures = plot_melting_curves_per_gene_mean(urea6M_fl_norm, urea6M_df_norm, \"Urea_6M_norm\")"
   ]
  },
  {
   "cell_type": "markdown",
   "id": "396a57e0",
   "metadata": {},
   "source": [
    "Urea 7M:"
   ]
  },
  {
   "cell_type": "code",
   "execution_count": null,
   "id": "0e6cf981",
   "metadata": {},
   "outputs": [],
   "source": [
    "urea7M_melting_temperatures = plot_melting_curves_per_gene_mean(urea7M_fl_norm, urea7M_df_norm, \"Urea_7M_norm\")"
   ]
  },
  {
   "cell_type": "markdown",
   "id": "b5591fcc",
   "metadata": {},
   "source": [
    "Urea 8M:"
   ]
  },
  {
   "cell_type": "code",
   "execution_count": null,
   "id": "2bdfb931",
   "metadata": {
    "scrolled": true
   },
   "outputs": [],
   "source": [
    "urea8M_melting_temperatures = plot_melting_curves_per_gene_mean(urea8M_fl_norm, urea8M_df_norm, \"Urea_8M_norm\")"
   ]
  },
  {
   "cell_type": "markdown",
   "id": "c9039ac1",
   "metadata": {},
   "source": [
    "## Plotting melting temperature against urea concentration"
   ]
  },
  {
   "cell_type": "code",
   "execution_count": null,
   "id": "aea7505d",
   "metadata": {},
   "outputs": [],
   "source": [
    "df_melting_temperatures = pd.DataFrame(\n",
    "    [\n",
    "        pbs_melting_temperatures,\n",
    "        urea1M_melting_temperatures,\n",
    "        urea2M_melting_temperatures,\n",
    "        urea3M_melting_temperatures,\n",
    "        urea4M_melting_temperatures,\n",
    "        urea5M_melting_temperatures,\n",
    "        urea6M_melting_temperatures,\n",
    "        urea7M_melting_temperatures,\n",
    "        urea8M_melting_temperatures,\n",
    "    ]\n",
    ")"
   ]
  },
  {
   "cell_type": "code",
   "execution_count": null,
   "id": "351c22fe",
   "metadata": {},
   "outputs": [],
   "source": [
    "for col in df_melting_temperatures:\n",
    "    sns.lineplot(\n",
    "        x=df_melting_temperatures.index,\n",
    "        y=df_melting_temperatures[col],\n",
    "        label=col,\n",
    "        legend=\"brief\",\n",
    "        palette=sns.hls_palette(17, s=0.6),\n",
    "    )\n",
    "    plt.legend(frameon=False, bbox_to_anchor=(1, 0.5), loc=\"center left\")\n",
    "    plt.ylabel(\"Melting temperature [°C]\")\n",
    "    plt.xlabel(\"Urea concentration [M]\")\n",
    "\n",
    "plt.savefig(\"melt_temp_for_urea_conc\")"
   ]
  },
  {
   "cell_type": "markdown",
   "id": "79930337",
   "metadata": {},
   "source": [
    "### Linear regression - urea x temp"
   ]
  },
  {
   "cell_type": "markdown",
   "id": "368a65c0",
   "metadata": {},
   "source": [
    "Calculate slope:"
   ]
  },
  {
   "cell_type": "code",
   "execution_count": null,
   "id": "06a0e51c",
   "metadata": {},
   "outputs": [],
   "source": [
    "temp_urea_slope_per_gene = {}\n",
    "for gene in df_melting_temperatures.columns:\n",
    "    slope = linregress(df_melting_temperatures.index, df_melting_temperatures[gene])[0] \n",
    "    \n",
    "    temp_urea_slope_per_gene[gene] = slope"
   ]
  },
  {
   "cell_type": "code",
   "execution_count": null,
   "id": "3c460ed5",
   "metadata": {},
   "outputs": [],
   "source": [
    "temp_urea_slope_per_gene"
   ]
  },
  {
   "cell_type": "code",
   "execution_count": null,
   "id": "e5a89a25",
   "metadata": {},
   "outputs": [],
   "source": [
    "del temp_urea_slope_per_gene[\"wt\"]"
   ]
  },
  {
   "cell_type": "markdown",
   "id": "54d28283",
   "metadata": {},
   "source": [
    "### Correlation with mutational robustness"
   ]
  },
  {
   "cell_type": "code",
   "execution_count": null,
   "id": "5bf655c3",
   "metadata": {},
   "outputs": [],
   "source": [
    "half_mut_rob_per_gene = {'cgreGFP': 2.3598224708239237,\n",
    " 2880: 2.0475472322138573,\n",
    " 575: 1.648929743078233,\n",
    " 83: 0.4876710628582579,\n",
    " 121: 2.087983470121052,\n",
    " 13: 1.7655853131041812,\n",
    " 567: 0.38997176295167435,\n",
    " 3224: 1.364926200088591,\n",
    " 900: 1.6385128907623048,\n",
    " 626: 1.4664978833021196,\n",
    " 985: 1.8639110762878979,\n",
    " 911: 2.1317630470636817,\n",
    " 1414: 4.5209917944211,\n",
    " 1338: 0.9603722537683815,\n",
    " 132: 3.2927772016988577,\n",
    " 9708: 3.077040183325697,\n",
    " 4111: 1.072414674710171}\n",
    "half_mut_rob_per_gene = {\n",
    "    str(key): value for key, value in half_mut_rob_per_gene.items()\n",
    "}\n",
    "df_half_mut_rob = pd.DataFrame(\n",
    "    half_mut_rob_per_gene, index=[\"half_n_aamut\"]\n",
    ").T.sort_index()"
   ]
  },
  {
   "cell_type": "code",
   "execution_count": null,
   "id": "b307abf8",
   "metadata": {},
   "outputs": [],
   "source": [
    "df_half_mut_rob[\"half_n_aamut\"].corr(pd.Series(temp_urea_slope_per_gene))"
   ]
  },
  {
   "cell_type": "markdown",
   "id": "bebdb527",
   "metadata": {},
   "source": [
    "## Plot dF/dT for each gene with different Urea concentrations"
   ]
  },
  {
   "cell_type": "code",
   "execution_count": null,
   "id": "58c6b459",
   "metadata": {},
   "outputs": [],
   "source": [
    "# Urea concentration list\n",
    "urea_concs = list(range(0, 9))\n",
    "\n",
    "# All dF/dT dataframes in one list\n",
    "df_df = [\n",
    "    pbs_df_norm,\n",
    "    urea1M_df_norm,\n",
    "    urea2M_df_norm,\n",
    "    urea3M_df_norm,\n",
    "    urea4M_df_norm,\n",
    "    urea5M_df_norm,\n",
    "    urea6M_df_norm,\n",
    "    urea7M_df_norm,\n",
    "    urea8M_df_norm,\n",
    "]\n",
    "\n",
    "# Dictionary urea_conc: dF/dT\n",
    "urea_to_df = dict(zip(urea_concs, df_df))\n",
    "genes = set(pbs_df.gene)\n",
    "\n",
    "# Ploting\n",
    "fig = plt.figure(figsize=[15, 18], dpi=200)\n",
    "palette = sns.color_palette(\"mako\", n_colors=len(urea_concs) + 1)\n",
    "plots = []\n",
    "\n",
    "for i, gene in enumerate(genes):\n",
    "    plot = plt.subplot(6, 3, i + 1)\n",
    "    for urea_conc in urea_concs:\n",
    "        # Taking dataframe for the according urea concentration\n",
    "        data_df = urea_to_df[urea_conc]\n",
    "\n",
    "        # Creating dataframe with data only for one gene\n",
    "        df_df = data_df[data_df.gene == gene]\n",
    "\n",
    "        # Taking mean over all wells for the gene\n",
    "        mean_per_gene_df = df_df.groupby([\"gene\", \"temperature\"], as_index=False).mean()\n",
    "\n",
    "        # Index for melting temperature\n",
    "        i_melt_temp = mean_per_gene_df.groupby(\"gene\").idxmax()[\"signal\"][gene]\n",
    "\n",
    "        # Taking the melting temperature and appending it to the dictionary\n",
    "        melting_temperature = mean_per_gene_df.iloc[i_melt_temp, 1]\n",
    "\n",
    "        # According absorbance\n",
    "        max_absorbance = mean_per_gene_df.iloc[i_melt_temp, 2]\n",
    "\n",
    "        # dF/dT curve\n",
    "        line = sns.lineplot(\n",
    "            data=df_df,\n",
    "            x=df_df[\"temperature\"],\n",
    "            y=df_df[\"signal\"],\n",
    "            ci=None,\n",
    "            #legend=\"brief\",\n",
    "            ax=plot,\n",
    "            #label=f\"{urea_conc}M Urea\",\n",
    "            color=palette[urea_conc + 1],\n",
    "        )\n",
    "        plots.append(line)\n",
    "\n",
    "        # Line along the melting temperature\n",
    "        plot.axvline(\n",
    "            melting_temperature, ymax=0.9, color=palette[0], linestyle=\"--\", linewidth=1\n",
    "        )\n",
    "\n",
    "        # Labels\n",
    "        plt.title(f\"cgre{gene if gene != 'wt' else 'WT'}\", fontsize=18)\n",
    "        plt.xlabel(None)\n",
    "        plt.ylabel(None)\n",
    "        # plot.set_xlabel(\"Temperature [°C]\", fontsize=16)\n",
    "        # plot.set_ylabel(\"dF/dT\", fontsize=16)\n",
    "        # plot.set_ylim(0, max_absorbance + max_absorbance * 0.1)\n",
    "        # plot.legend(frameon=False, bbox_to_anchor=(1, 1))\n",
    "    plt.tight_layout()\n",
    "#plt.tight_layout()\n",
    "\n",
    "fig.legend(\n",
    "    handles=[line for line in plots[0].get_lines() if line._linestyle != \"--\"],\n",
    "    labels=[f\"{conc} M Urea\" for conc in range(9)],\n",
    "    bbox_to_anchor=(0.827, 0.155),\n",
    "    borderaxespad=0,\n",
    "    fontsize=14,\n",
    "    frameon=False,\n",
    ")\n",
    "fig.supxlabel(\"Temperature [°C]\", fontsize=18, y=-0.01)\n",
    "fig.supylabel(\"dF/dT\", fontsize=18, x=-0.)\n",
    "\n",
    "plt.savefig(\"curves_per_gene_per_urea_conc.png\", dpi=200)"
   ]
  },
  {
   "cell_type": "code",
   "execution_count": null,
   "id": "179d3667-1dce-4f26-9583-3ee4328aca5c",
   "metadata": {},
   "outputs": [],
   "source": [
    "plots[1].get_lines()[3]._linestyle"
   ]
  },
  {
   "cell_type": "markdown",
   "id": "e9adf169",
   "metadata": {},
   "source": [
    "## Correlation for each urea concentration with mutational robustness"
   ]
  },
  {
   "cell_type": "code",
   "execution_count": null,
   "id": "f9e6c260-a48f-4f69-b7e1-0e2dd9d3b6d0",
   "metadata": {},
   "outputs": [],
   "source": [
    "from scipy.stats import pearsonr"
   ]
  },
  {
   "cell_type": "code",
   "execution_count": null,
   "id": "e3650156",
   "metadata": {},
   "outputs": [],
   "source": [
    "corr_mut_rob_per_urea = {}\n",
    "for urea_conc in urea_concs:\n",
    "    common_ids = np.intersect1d(df_melting_temperatures.iloc[urea_conc].index, df_half_mut_rob[\"half_n_aamut\"].index)\n",
    "    corr_mut_rob_per_urea[urea_conc] = pearsonr(df_melting_temperatures.iloc[urea_conc][common_ids], \n",
    "                                                df_half_mut_rob[\"half_n_aamut\"][common_ids])"
   ]
  },
  {
   "cell_type": "code",
   "execution_count": null,
   "id": "1f983fcb",
   "metadata": {},
   "outputs": [],
   "source": [
    "corr_mut_rob_per_urea"
   ]
  },
  {
   "cell_type": "code",
   "execution_count": null,
   "id": "e57562fc-a1fb-422c-a33f-28540f4e91dc",
   "metadata": {},
   "outputs": [],
   "source": [
    "corr_results = {\n",
    "                \"Corr. coef.\": [i[0] for i in corr_mut_rob_per_urea.values()],\n",
    "                \"p-value\": [i[1] for i in corr_mut_rob_per_urea.values()],\n",
    "                }\n",
    "\n",
    "corr_results = pd.DataFrame(corr_results, index=list(range(9)))\n",
    "corr_results"
   ]
  },
  {
   "cell_type": "code",
   "execution_count": null,
   "id": "7d0d299f-b869-43ff-9954-e63ea0cf8549",
   "metadata": {},
   "outputs": [],
   "source": []
  },
  {
   "cell_type": "code",
   "execution_count": null,
   "id": "5c0fd360-1c3d-4761-8105-47d1e88be444",
   "metadata": {},
   "outputs": [],
   "source": []
  },
  {
   "cell_type": "code",
   "execution_count": null,
   "id": "77999189-b41f-4221-9dcd-70833e295c03",
   "metadata": {},
   "outputs": [],
   "source": []
  }
 ],
 "metadata": {
  "kernelspec": {
   "display_name": "Python 3 (ipykernel)",
   "language": "python",
   "name": "python3"
  },
  "language_info": {
   "codemirror_mode": {
    "name": "ipython",
    "version": 3
   },
   "file_extension": ".py",
   "mimetype": "text/x-python",
   "name": "python",
   "nbconvert_exporter": "python",
   "pygments_lexer": "ipython3",
   "version": "3.9.7"
  }
 },
 "nbformat": 4,
 "nbformat_minor": 5
}
